{
 "cells": [
  {
   "cell_type": "markdown",
   "metadata": {},
   "source": [
    "Process edges for testing:\n",
    "- Take in line data from Luis' team\n",
    "- Translate and rotate\n",
    "\n",
    "Tests in scope:\n",
    "- Smoothed inflection point detection\n",
    "- Downsampling + direct vector comparison\n",
    "-"
   ]
  },
  {
   "cell_type": "markdown",
   "metadata": {},
   "source": [
    "Set up basic test data:"
   ]
  },
  {
   "cell_type": "code",
   "execution_count": 1,
   "metadata": {
    "collapsed": false,
    "scrolled": true
   },
   "outputs": [],
   "source": [
    "import numpy as np\n",
    "import matplotlib.pyplot as plt\n",
    "import seaborn as sns\n",
    "import helpers\n",
    "import os \n",
    "\n",
    "%matplotlib inline\n",
    "\n",
    "EUCL_NOSAMPLES = 1000\n",
    "SMOOTHING_FACTOR = 30\n",
    "\n",
    "X = np.arange(0,10,0.01)+0.34\n",
    "Y = np.sin(X) + 0.1 * np.sin(X**2+3) + 1\n",
    "testdata = np.array([X,Y]).T"
   ]
  },
  {
   "cell_type": "code",
   "execution_count": 72,
   "metadata": {
    "collapsed": false,
    "scrolled": true
   },
   "outputs": [
    {
     "data": {
      "text/plain": [
       "matrix([[ 0.        ,  0.        ],\n",
       "        [ 0.00089423,  0.0097614 ],\n",
       "        [ 0.00178905,  0.01946875],\n",
       "        ..., \n",
       "        [ 0.99748527,  0.04687478],\n",
       "        [ 0.99873286,  0.02433138],\n",
       "        [ 1.        ,  0.        ]])"
      ]
     },
     "execution_count": 72,
     "metadata": {},
     "output_type": "execute_result"
    }
   ],
   "source": [
    "def axis_align(inputdata):\n",
    "    # Translate leftermost point to the origin\n",
    "    translateddata = inputdata - inputdata[0]\n",
    "    \n",
    "    # Find an assumed \"straight edge\" line: \n",
    "    # straight line between first and last points\n",
    "    leftpoint = translateddata[0]\n",
    "    rightpoint = translateddata[-1]\n",
    "    slope = (rightpoint[1] - leftpoint[1]) / (rightpoint[0] - leftpoint[0])\n",
    "    \n",
    "    # NOTE: can we get c,s more smartly?\n",
    "    theta = np.arctan(slope)\n",
    "    c, s = np.cos(theta), np.sin(theta)\n",
    "    rotationmatrix = np.matrix('{} {}; {} {}'.format(c, -s, s, c))\n",
    "    \n",
    "    newdata =  translateddata * rotationmatrix\n",
    "    # plt.scatter(newdata[:,0], newdata[:,1])\n",
    "    \n",
    "    scalefactor = newdata[-1,0]\n",
    "    #print(scalefactor)\n",
    "    newdata[:,0] = newdata[:,0] / scalefactor\n",
    "    \n",
    "    return newdata\n",
    "    \n",
    "aligned_data = axis_align(testdata)\n",
    "aligned_data"
   ]
  },
  {
   "cell_type": "markdown",
   "metadata": {},
   "source": [
    "We have processed lines.\n",
    "\n",
    "Find locations of juts by smoothing locally (keep as variable smoothing parameter for now)"
   ]
  },
  {
   "cell_type": "code",
   "execution_count": 61,
   "metadata": {
    "collapsed": false
   },
   "outputs": [
    {
     "name": "stdout",
     "output_type": "stream",
     "text": [
      "[ 0.15423938  0.43085204  0.4715077   0.47787571  0.73769031]\n"
     ]
    },
    {
     "data": {
      "text/plain": [
       "<matplotlib.collections.PathCollection at 0x11bda2d30>"
      ]
     },
     "execution_count": 61,
     "metadata": {},
     "output_type": "execute_result"
    },
    {
     "data": {
      "image/png": "[encoded data removed]",
      "text/plain": [
       "<matplotlib.figure.Figure at 0x118a0a7b8>"
      ]
     },
     "metadata": {},
     "output_type": "display_data"
    }
   ],
   "source": [
    "def _kernel_smoother(linedata, pointref, d):\n",
    "    # Return the smoothed value of f(linedata[pointref])\n",
    "    \n",
    "    # Kernel average smoother: take the d nearest points on either side and use their f values\n",
    "    # as a weighted average for f(x).\n",
    "    leftlim = max(0, pointref - d)\n",
    "    rightlim = min(len(linedata), pointref + d)\n",
    "\n",
    "    weightwindow = np.concatenate( [np.array([(i+1) for i in range(pointref-leftlim)]),\n",
    "                                   np.array([(d-i) for i in range(rightlim-pointref)])])\n",
    "    weightwindow = weightwindow / np.sum(weightwindow)\n",
    "    \n",
    "    #print(np.sum(weightwindow)\n",
    "    vals = linedata[leftlim: rightlim][:,1]\n",
    "    #print(vals.shape, weightwindow.shape)\n",
    "    #print(vals)\n",
    "    fx = np.sum(np.multiply(np.squeeze(vals), weightwindow))\n",
    "    #print(fx)\n",
    "    return fx\n",
    "\n",
    "def smooth(linedata):\n",
    "    Xsmooth = np.array(linedata[:,0]).flatten()\n",
    "    Ysmooth = [_kernel_smoother(linedata, i, SMOOTHING_FACTOR) for i in range(len(linedata))]\n",
    "    testdata = np.array([Xsmooth, Ysmooth]).T\n",
    "    return testdata\n",
    "\n",
    "def inflection_anal(linedata):\n",
    "    smoothed = smooth(linedata)\n",
    "    gradients = np.gradient(smoothed[:,1])\n",
    "\n",
    "    inflectionmask = [(gradients[i] * gradients[i+1] <= 0) for i in range(len(gradients)-1)]\n",
    "    \n",
    "    inflectionrefs = [i for i in range(len(inflectionmask)) if inflectionmask[i]]\n",
    "    inflectionpoints = smoothed[inflectionrefs,0]\n",
    "    \n",
    "    return inflectionrefs, inflectionpoints\n",
    "\n",
    "smoothed_data = smooth(aligned_data)\n",
    "inflectionrefs, inflectionpoints = inflection_anal(aligned_data)\n",
    "print(inflectionpoints)\n",
    "plt.scatter(smoothed_data[:,0], smoothed_data[:,1], s=1)\n",
    "plt.scatter(inflectionpoints,[0]*len(inflectionpoints), color='r')\n"
   ]
  },
  {
   "cell_type": "code",
   "execution_count": 62,
   "metadata": {
    "collapsed": false
   },
   "outputs": [
    {
     "data": {
      "text/plain": [
       "0.63354434472063337"
      ]
     },
     "execution_count": 62,
     "metadata": {},
     "output_type": "execute_result"
    }
   ],
   "source": [
    "def msdev(linedata):\n",
    "    total = np.multiply(linedata[:,1], linedata[:,1])\n",
    "    return np.sum(total)/len(linedata)\n",
    "\n",
    "msdev(aligned_data)\n"
   ]
  },
  {
   "cell_type": "code",
   "execution_count": 63,
   "metadata": {
    "collapsed": false,
    "scrolled": true
   },
   "outputs": [
    {
     "name": "stdout",
     "output_type": "stream",
     "text": [
      "(3792, 2)\n"
     ]
    }
   ],
   "source": [
    "inputcsv = np.genfromtxt('sample_csv/74584_MS-DAR-00125-000-00073_north.csv', delimiter=',')\n",
    "inputcsv = inputcsv[1:,(1,2)]\n",
    "print(inputcsv.shape)\n",
    "\n",
    "inputcsv.sort(0)\n",
    "\n",
    "aligned_data = axis_align(inputcsv)\n",
    "\n",
    "# plt.scatter(inputcsv[:,0],inputcsv[:,1])\n",
    "# plt.scatter(aligned_data[:,0], aligned_data[:,1])"
   ]
  },
  {
   "cell_type": "code",
   "execution_count": 64,
   "metadata": {
    "collapsed": true
   },
   "outputs": [],
   "source": [
    "def get_aligneddata(filename):\n",
    "    inputcsv = np.genfromtxt(filename, delimiter=',')\n",
    "    inputcsv = inputcsv[1:,(1,2)]\n",
    "    inputcsv.sort(0)\n",
    "    aligned_data = axis_align(inputcsv)\n",
    "    return aligned_data\n",
    "\n",
    "def get_msdev(filename):\n",
    "    return msdev(aligned_data)"
   ]
  },
  {
   "cell_type": "code",
   "execution_count": 65,
   "metadata": {
    "collapsed": false
   },
   "outputs": [
    {
     "name": "stdout",
     "output_type": "stream",
     "text": [
      "sample_csv/74584_MS-DAR-00125-000-00073_north.csv 465.703029291\n",
      "sample_csv/74584_MS-DAR-00125-000-00073_south.csv 6.8097390376\n",
      "sample_csv/74584_MS-DAR-00125-000-00073_west.csv 3408.17920444\n",
      "sample_csv/76748_MS-DAR-00053-00001-000-00118_north.csv 3.19860339829\n",
      "sample_csv/76748_MS-DAR-00053-00001-000-00118_south.csv 528.912322452\n",
      "sample_csv/76748_MS-DAR-00053-00001-000-00118_west.csv 0.0\n",
      "sample_csv/77726_MS-DAR-00205-00001-000-00096_north.csv 1.96121793027\n",
      "sample_csv/77726_MS-DAR-00205-00001-000-00096_south.csv 9820.61101075\n"
     ]
    }
   ],
   "source": [
    "for i in os.listdir(\"sample_csv\"):\n",
    "    name = \"sample_csv/\" + i\n",
    "    print(name, msdev(get_aligneddata(name)))"
   ]
  },
  {
   "cell_type": "code",
   "execution_count": 66,
   "metadata": {
    "collapsed": false
   },
   "outputs": [
    {
     "name": "stdout",
     "output_type": "stream",
     "text": [
      "3792 3699\n"
     ]
    },
    {
     "data": {
      "image/png": "[encoded data removed]",
      "text/plain": [
       "<matplotlib.figure.Figure at 0x118b4da58>"
      ]
     },
     "metadata": {},
     "output_type": "display_data"
    }
   ],
   "source": [
    "al1 = get_aligneddata(\"sample_csv/74584_MS-DAR-00125-000-00073_north.csv\")\n",
    "plt.scatter(al1[:,0], al1[:,1], s=0.1)\n",
    "\n",
    "al2 = get_aligneddata(\"sample_csv/76748_MS-DAR-00053-00001-000-00118_south.csv\")\n",
    "plt.scatter(al2[:,0], al2[:,1], s=0.1, c='r')\n",
    "\n",
    "print(len(al1), len(al2))"
   ]
  },
  {
   "cell_type": "code",
   "execution_count": 67,
   "metadata": {
    "collapsed": false
   },
   "outputs": [
    {
     "name": "stdout",
     "output_type": "stream",
     "text": [
      "[[ 0.         -0.0399778 ]\n",
      " [ 0.001      -0.18989453]\n",
      " [ 0.002      -0.29983347]\n",
      " ..., \n",
      " [ 0.997       0.29983347]\n",
      " [ 0.998       0.18323157]\n",
      " [ 0.999       0.06662966]]\n"
     ]
    }
   ],
   "source": [
    "def downsample(frame, n_chunks=EUCL_NOSAMPLES):\n",
    "    n_points = frame.shape[0]\n",
    "    chunk_size = int(n_points / n_chunks)  # TODO: We are throwing away any the last chunk if it doesn't fit.\n",
    "    \n",
    "    X = np.arange(0,1,1/n_chunks)\n",
    "    i=20\n",
    "    #print([np.multiply((i/n_chunks <= frame[:,0]),(frame[:,0] < (i+1)/n_chunks))])\n",
    "    Y = [np.mean(frame[:,1][np.multiply((i/n_chunks <= frame[:,0]),(frame[:,0] < (i+1)/n_chunks))]) for i in range(n_chunks)]\n",
    "    downsampled = np.array([X,Y]).T\n",
    "    \n",
    "    return downsampled\n",
    "\n",
    "al1 = get_aligneddata(\"sample_csv/74584_MS-DAR-00125-000-00073_north.csv\")\n",
    "al1 = downsample(al1)\n",
    "print(al1)"
   ]
  },
  {
   "cell_type": "code",
   "execution_count": 68,
   "metadata": {
    "collapsed": false
   },
   "outputs": [
    {
     "data": {
      "text/plain": [
       "<matplotlib.collections.PathCollection at 0x11bf5add8>"
      ]
     },
     "execution_count": 68,
     "metadata": {},
     "output_type": "execute_result"
    },
    {
     "data": {
      "image/png": "[encoded data removed]",
      "text/plain": [
       "<matplotlib.figure.Figure at 0x118bc0eb8>"
      ]
     },
     "metadata": {},
     "output_type": "display_data"
    }
   ],
   "source": [
    "al1 = get_aligneddata(\"sample_csv/74584_MS-DAR-00125-000-00073_north.csv\")\n",
    "al2 = get_aligneddata(\"sample_csv/76748_MS-DAR-00053-00001-000-00118_south.csv\")\n",
    "plt.scatter(al1[:,0], al1[:,1], s=1)\n",
    "plt.scatter(al2[:,0], al2[:,1], s=1, c='r')\n",
    "\n",
    "al1 = downsample(al1)\n",
    "al2 = downsample(al2)\n",
    "\n",
    "plt.scatter(al1[:,0], al1[:,1], s=1)\n",
    "plt.scatter(al2[:,0], al2[:,1], s=1, c='r')"
   ]
  },
  {
   "cell_type": "code",
   "execution_count": 69,
   "metadata": {
    "collapsed": false
   },
   "outputs": [
    {
     "data": {
      "text/plain": [
       "2.1066660207196248"
      ]
     },
     "execution_count": 69,
     "metadata": {},
     "output_type": "execute_result"
    }
   ],
   "source": [
    "def eucl_distance(line1, line2):\n",
    "    line1 = downsample(line1)\n",
    "    line2 = downsample(line2)\n",
    "    diff = np.array([line1[:,0],(line1-line2)[:,1]]).T\n",
    "    \n",
    "    totdiff = np.sum(np.abs(diff[:,1])) / EUCL_NOSAMPLES\n",
    "    \n",
    "    return totdiff\n",
    "    \n",
    "eucl_distance(al1, al2)"
   ]
  },
  {
   "cell_type": "code",
   "execution_count": 70,
   "metadata": {
    "collapsed": false
   },
   "outputs": [
    {
     "name": "stdout",
     "output_type": "stream",
     "text": [
      "([89, 480], array([ 0.089,  0.48 ]))\n",
      "([90, 473], array([ 0.09 ,  0.473]))\n"
     ]
    }
   ],
   "source": [
    "print(inflection_anal(al1))\n",
    "print(inflection_anal(al2))"
   ]
  },
  {
   "cell_type": "code",
   "execution_count": 13,
   "metadata": {
    "collapsed": false
   },
   "outputs": [
    {
     "name": "stderr",
     "output_type": "stream",
     "text": [
      "/Users/markostamenovic/anaconda3/lib/python3.5/site-packages/numpy/core/_methods.py:59: RuntimeWarning: Mean of empty slice.\n",
      "  warnings.warn(\"Mean of empty slice.\", RuntimeWarning)\n"
     ]
    }
   ],
   "source": [
    "yvalues = []\n",
    "for i in os.listdir(\"sample_csv\"):\n",
    "    name = \"sample_csv/\" + i\n",
    "    y = get_aligneddata(name)\n",
    "    #print(i)\n",
    "    y = downsample(y)\n",
    "    #print(np.sum(np.isnan(y)))\n",
    "    y[np.isnan(y)] = 0\n",
    "    yvalues.append(np.array(y[:,1]))\n",
    "    \n",
    "yvalues.append(np.zeros(1000))\n",
    "\n",
    "#totaldata = np.vstack(yvalues)\n",
    "#print(yvalues.shape)\n",
    "#from sklearn.metrics.pairwise import euclidean_distances\n",
    "#pd.DataFrame(euclidean_distances(totaldata))"
   ]
  },
  {
   "cell_type": "code",
   "execution_count": 14,
   "metadata": {
    "collapsed": false
   },
   "outputs": [
    {
     "name": "stdout",
     "output_type": "stream",
     "text": [
      "1000\n",
      "(9, 1000)\n"
     ]
    },
    {
     "data": {
      "text/html": [
       "<div>\n",
       "<table border=\"1\" class=\"dataframe\">\n",
       "  <thead>\n",
       "    <tr style=\"text-align: right;\">\n",
       "      <th></th>\n",
       "      <th>0</th>\n",
       "      <th>1</th>\n",
       "      <th>2</th>\n",
       "      <th>3</th>\n",
       "      <th>4</th>\n",
       "      <th>5</th>\n",
       "      <th>6</th>\n",
       "      <th>7</th>\n",
       "      <th>8</th>\n",
       "    </tr>\n",
       "  </thead>\n",
       "  <tbody>\n",
       "    <tr>\n",
       "      <th>0</th>\n",
       "      <td>0.000000</td>\n",
       "      <td>624.401847</td>\n",
       "      <td>2600.071607</td>\n",
       "      <td>646.593987</td>\n",
       "      <td>75.545766</td>\n",
       "      <td>683.882212</td>\n",
       "      <td>714.595456</td>\n",
       "      <td>2453.989822</td>\n",
       "      <td>683.882212</td>\n",
       "    </tr>\n",
       "    <tr>\n",
       "      <th>1</th>\n",
       "      <td>624.401847</td>\n",
       "      <td>0.000000</td>\n",
       "      <td>2136.117857</td>\n",
       "      <td>70.062260</td>\n",
       "      <td>669.280699</td>\n",
       "      <td>82.524152</td>\n",
       "      <td>119.439650</td>\n",
       "      <td>2952.149153</td>\n",
       "      <td>82.524152</td>\n",
       "    </tr>\n",
       "    <tr>\n",
       "      <th>2</th>\n",
       "      <td>2600.071607</td>\n",
       "      <td>2136.117857</td>\n",
       "      <td>0.000000</td>\n",
       "      <td>2147.582694</td>\n",
       "      <td>2656.344631</td>\n",
       "      <td>2095.573306</td>\n",
       "      <td>2093.357085</td>\n",
       "      <td>4935.807227</td>\n",
       "      <td>2095.573306</td>\n",
       "    </tr>\n",
       "    <tr>\n",
       "      <th>3</th>\n",
       "      <td>646.593987</td>\n",
       "      <td>70.062260</td>\n",
       "      <td>2147.582694</td>\n",
       "      <td>0.000000</td>\n",
       "      <td>692.030446</td>\n",
       "      <td>56.519236</td>\n",
       "      <td>74.898389</td>\n",
       "      <td>2968.654566</td>\n",
       "      <td>56.519236</td>\n",
       "    </tr>\n",
       "    <tr>\n",
       "      <th>4</th>\n",
       "      <td>75.545766</td>\n",
       "      <td>669.280699</td>\n",
       "      <td>2656.344631</td>\n",
       "      <td>692.030446</td>\n",
       "      <td>0.000000</td>\n",
       "      <td>731.263372</td>\n",
       "      <td>761.521395</td>\n",
       "      <td>2394.394794</td>\n",
       "      <td>731.263372</td>\n",
       "    </tr>\n",
       "    <tr>\n",
       "      <th>5</th>\n",
       "      <td>683.882212</td>\n",
       "      <td>82.524152</td>\n",
       "      <td>2095.573306</td>\n",
       "      <td>56.519236</td>\n",
       "      <td>731.263372</td>\n",
       "      <td>0.000000</td>\n",
       "      <td>44.219882</td>\n",
       "      <td>3018.559775</td>\n",
       "      <td>0.000000</td>\n",
       "    </tr>\n",
       "    <tr>\n",
       "      <th>6</th>\n",
       "      <td>714.595456</td>\n",
       "      <td>119.439650</td>\n",
       "      <td>2093.357085</td>\n",
       "      <td>74.898389</td>\n",
       "      <td>761.521395</td>\n",
       "      <td>44.219882</td>\n",
       "      <td>0.000000</td>\n",
       "      <td>3038.090589</td>\n",
       "      <td>44.219882</td>\n",
       "    </tr>\n",
       "    <tr>\n",
       "      <th>7</th>\n",
       "      <td>2453.989822</td>\n",
       "      <td>2952.149153</td>\n",
       "      <td>4935.807227</td>\n",
       "      <td>2968.654566</td>\n",
       "      <td>2394.394794</td>\n",
       "      <td>3018.559775</td>\n",
       "      <td>3038.090589</td>\n",
       "      <td>0.000000</td>\n",
       "      <td>3018.559775</td>\n",
       "    </tr>\n",
       "    <tr>\n",
       "      <th>8</th>\n",
       "      <td>683.882212</td>\n",
       "      <td>82.524152</td>\n",
       "      <td>2095.573306</td>\n",
       "      <td>56.519236</td>\n",
       "      <td>731.263372</td>\n",
       "      <td>0.000000</td>\n",
       "      <td>44.219882</td>\n",
       "      <td>3018.559775</td>\n",
       "      <td>0.000000</td>\n",
       "    </tr>\n",
       "  </tbody>\n",
       "</table>\n",
       "</div>"
      ],
      "text/plain": [
       "             0            1            2            3            4  \\\n",
       "0     0.000000   624.401847  2600.071607   646.593987    75.545766   \n",
       "1   624.401847     0.000000  2136.117857    70.062260   669.280699   \n",
       "2  2600.071607  2136.117857     0.000000  2147.582694  2656.344631   \n",
       "3   646.593987    70.062260  2147.582694     0.000000   692.030446   \n",
       "4    75.545766   669.280699  2656.344631   692.030446     0.000000   \n",
       "5   683.882212    82.524152  2095.573306    56.519236   731.263372   \n",
       "6   714.595456   119.439650  2093.357085    74.898389   761.521395   \n",
       "7  2453.989822  2952.149153  4935.807227  2968.654566  2394.394794   \n",
       "8   683.882212    82.524152  2095.573306    56.519236   731.263372   \n",
       "\n",
       "             5            6            7            8  \n",
       "0   683.882212   714.595456  2453.989822   683.882212  \n",
       "1    82.524152   119.439650  2952.149153    82.524152  \n",
       "2  2095.573306  2093.357085  4935.807227  2095.573306  \n",
       "3    56.519236    74.898389  2968.654566    56.519236  \n",
       "4   731.263372   761.521395  2394.394794   731.263372  \n",
       "5     0.000000    44.219882  3018.559775     0.000000  \n",
       "6    44.219882     0.000000  3038.090589    44.219882  \n",
       "7  3018.559775  3038.090589     0.000000  3018.559775  \n",
       "8     0.000000    44.219882  3018.559775     0.000000  "
      ]
     },
     "execution_count": 14,
     "metadata": {},
     "output_type": "execute_result"
    }
   ],
   "source": [
    "print(len(yvalues[0]))\n",
    "totaldata = np.vstack(yvalues)\n",
    "print(totaldata.shape)\n",
    "\n",
    "from sklearn.metrics.pairwise import euclidean_distances\n",
    "import pandas as pd\n",
    "pd.DataFrame(euclidean_distances(totaldata))"
   ]
  },
  {
   "cell_type": "code",
   "execution_count": 15,
   "metadata": {
    "collapsed": false
   },
   "outputs": [
    {
     "data": {
      "text/plain": [
       "array([1, 3, 0, 3, 1, 3, 3, 2, 3], dtype=int32)"
      ]
     },
     "execution_count": 15,
     "metadata": {},
     "output_type": "execute_result"
    }
   ],
   "source": [
    "from sklearn.cluster import KMeans\n",
    "kmeans = KMeans(4)\n",
    "kmeans.fit(totaldata)\n",
    "kmeans.predict(totaldata)"
   ]
  },
  {
   "cell_type": "code",
   "execution_count": 55,
   "metadata": {
    "collapsed": false
   },
   "outputs": [],
   "source": [
    "from sklearn.manifold import TSNE\n",
    "model = TSNE(n_components=2, random_state=0, n_iter=200)\n",
    "np.set_printoptions(suppress=True)\n",
    "#model.fit_transform(totaldata)"
   ]
  },
  {
   "cell_type": "code",
   "execution_count": 56,
   "metadata": {
    "collapsed": false
   },
   "outputs": [
    {
     "data": {
      "text/plain": [
       "array([[-0.0399778 , -0.18989453, -0.29983347, ...,  0.29983347,\n",
       "         0.18323157,  0.06662966],\n",
       "       [-0.01166612, -0.05541405, -0.08749586, ...,  0.08749586,\n",
       "         0.0534697 ,  0.01944353],\n",
       "       [-0.88730739, -3.10557588, -5.21293094, ...,  4.76489604,\n",
       "         3.10557588,  1.33096109],\n",
       "       ..., \n",
       "       [-0.00903558, -0.03666611, -0.05774913, ...,  0.05774913,\n",
       "         0.03574946,  0.01374979],\n",
       "       [ 0.29831407,  0.51299271,  0.21788923, ..., -0.07723918,\n",
       "         0.23383538,  0.16394638],\n",
       "       [ 0.        ,  0.        ,  0.        , ...,  0.        ,\n",
       "         0.        ,  0.        ]])"
      ]
     },
     "execution_count": 56,
     "metadata": {},
     "output_type": "execute_result"
    }
   ],
   "source": [
    "totaldata"
   ]
  },
  {
   "cell_type": "code",
   "execution_count": 57,
   "metadata": {
    "collapsed": false
   },
   "outputs": [
    {
     "data": {
      "text/plain": [
       "array([[ 0.00017535,  0.00004024],\n",
       "       [ 0.00009796,  0.0002214 ],\n",
       "       [ 0.00018536, -0.00009534],\n",
       "       [ 0.000095  , -0.00001444],\n",
       "       [-0.00000893,  0.000041  ],\n",
       "       [ 0.00001518,  0.00014461]])"
      ]
     },
     "execution_count": 57,
     "metadata": {},
     "output_type": "execute_result"
    }
   ],
   "source": [
    "X = np.array([[0, 0, 0], [0, 1, 1], [1, 0, 1], [1, 1, 1], [4,3,2], [6,4,3]])\n",
    "model.fit_transform(X)"
   ]
  },
  {
   "cell_type": "code",
   "execution_count": 58,
   "metadata": {
    "collapsed": false
   },
   "outputs": [],
   "source": [
    "thing = model.fit_transform(totaldata)"
   ]
  },
  {
   "cell_type": "code",
   "execution_count": 59,
   "metadata": {
    "collapsed": false
   },
   "outputs": [
    {
     "data": {
      "text/plain": [
       "<matplotlib.collections.PathCollection at 0x11bc4fc50>"
      ]
     },
     "execution_count": 59,
     "metadata": {},
     "output_type": "execute_result"
    },
    {
     "data": {
      "image/png": "[encoded data removed]",
      "text/plain": [
       "<matplotlib.figure.Figure at 0x118b0fc50>"
      ]
     },
     "metadata": {},
     "output_type": "display_data"
    }
   ],
   "source": [
    "x = [x[0] for x in thing]\n",
    "y = [x[1] for x in thing]\n",
    "plt.scatter(x,y)"
   ]
  },
  {
   "cell_type": "code",
   "execution_count": 187,
   "metadata": {
    "collapsed": false
   },
   "outputs": [],
   "source": [
    "from itertools import groupby\n",
    "EUCL_NDPS = 3\n",
    "\n",
    "def downsample(frame, n_chunks= 10**EUCL_NDPS):\n",
    "    n_points = frame.shape[0]\n",
    "    chunk_size = int(n_points / n_chunks)  # TODO: We are throwing away any the last chunk if it doesn't fit.\n",
    "    meansdict = {np.round(k,3):np.mean([i[0,1] for i in g]) for k,g in groupby(frame, (lambda x: np.round(x[0,0], EUCL_NDPS)))}\n",
    "\n",
    "    Y = np.zeros(1000)\n",
    "    for key in meansdict:\n",
    "        Y[key*1000-1] = meansdict[key]\n",
    "\n",
    "    return Y\n"
   ]
  },
  {
   "cell_type": "code",
   "execution_count": 188,
   "metadata": {
    "collapsed": false
   },
   "outputs": [
    {
     "name": "stderr",
     "output_type": "stream",
     "text": [
      "//anaconda/lib/python3.5/site-packages/ipykernel/__main__.py:11: VisibleDeprecationWarning: using a non-integer number instead of an integer will result in an error in the future\n"
     ]
    },
    {
     "data": {
      "image/png": "[encoded data removed]",
      "text/plain": [
       "<matplotlib.figure.Figure at 0x1178c4ef0>"
      ]
     },
     "metadata": {},
     "output_type": "display_data"
    }
   ],
   "source": [
    "al1 = get_aligneddata(\"sample_csv/74584_MS-DAR-00125-000-00073_north.csv\")\n",
    "al2 = get_aligneddata(\"sample_csv/76748_MS-DAR-00053-00001-000-00118_south.csv\")\n",
    "plt.scatter(al1[:,0], al1[:,1], s=1)\n",
    "plt.scatter(al2[:,0], al2[:,1], s=1, c='r')\n",
    "\n",
    "al1 = downsample(al1)\n",
    "al2 = downsample(al2)"
   ]
  },
  {
   "cell_type": "code",
   "execution_count": 170,
   "metadata": {
    "collapsed": false
   },
   "outputs": [
    {
     "name": "stderr",
     "output_type": "stream",
     "text": [
      "//anaconda/lib/python3.5/site-packages/ipykernel/__main__.py:16: VisibleDeprecationWarning: using a non-integer number instead of an integer will result in an error in the future\n"
     ]
    },
    {
     "name": "stdout",
     "output_type": "stream",
     "text": [
      "9\n"
     ]
    }
   ],
   "source": [
    "yvalues = []\n",
    "\n",
    "for i in os.listdir(\"sample_csv\"):\n",
    "    name = \"sample_csv/\" + i\n",
    "    y = get_aligneddata(name)\n",
    "    #print(i)\n",
    "    y = downsample(y)\n",
    "    #print(y.shape)\n",
    "    #print(np.sum(np.isnan(y)))\n",
    "    #y[np.isnan(y)] = 0\n",
    "    yvalues.append(np.array(y))\n",
    "    \n",
    "yvalues.append(np.zeros(1000))\n",
    "print(len(yvalues))"
   ]
  },
  {
   "cell_type": "code",
   "execution_count": 166,
   "metadata": {
    "collapsed": false
   },
   "outputs": [
    {
     "name": "stdout",
     "output_type": "stream",
     "text": [
      "[1000, 1000, 1000, 1000, 1000, 1000, 1000, 1000, 1000]\n",
      "(9, 1000)\n"
     ]
    },
    {
     "data": {
      "text/html": [
       "<div>\n",
       "<table border=\"1\" class=\"dataframe\">\n",
       "  <thead>\n",
       "    <tr style=\"text-align: right;\">\n",
       "      <th></th>\n",
       "      <th>0</th>\n",
       "      <th>1</th>\n",
       "      <th>2</th>\n",
       "      <th>3</th>\n",
       "      <th>4</th>\n",
       "      <th>5</th>\n",
       "      <th>6</th>\n",
       "      <th>7</th>\n",
       "      <th>8</th>\n",
       "    </tr>\n",
       "  </thead>\n",
       "  <tbody>\n",
       "    <tr>\n",
       "      <th>0</th>\n",
       "      <td>0.000000</td>\n",
       "      <td>624.422555</td>\n",
       "      <td>2578.312157</td>\n",
       "      <td>646.590947</td>\n",
       "      <td>75.502703</td>\n",
       "      <td>683.878447</td>\n",
       "      <td>714.597479</td>\n",
       "      <td>2453.898600</td>\n",
       "      <td>683.878447</td>\n",
       "    </tr>\n",
       "    <tr>\n",
       "      <th>1</th>\n",
       "      <td>624.422555</td>\n",
       "      <td>0.000000</td>\n",
       "      <td>2113.815508</td>\n",
       "      <td>70.045904</td>\n",
       "      <td>669.252250</td>\n",
       "      <td>82.517431</td>\n",
       "      <td>119.427400</td>\n",
       "      <td>2952.081351</td>\n",
       "      <td>82.517431</td>\n",
       "    </tr>\n",
       "    <tr>\n",
       "      <th>2</th>\n",
       "      <td>2578.312157</td>\n",
       "      <td>2113.815508</td>\n",
       "      <td>0.000000</td>\n",
       "      <td>2125.206522</td>\n",
       "      <td>2634.067409</td>\n",
       "      <td>2073.691776</td>\n",
       "      <td>2071.324890</td>\n",
       "      <td>4904.275758</td>\n",
       "      <td>2073.691776</td>\n",
       "    </tr>\n",
       "    <tr>\n",
       "      <th>3</th>\n",
       "      <td>646.590947</td>\n",
       "      <td>70.045904</td>\n",
       "      <td>2125.206522</td>\n",
       "      <td>0.000000</td>\n",
       "      <td>691.979475</td>\n",
       "      <td>56.511902</td>\n",
       "      <td>74.895048</td>\n",
       "      <td>2968.579840</td>\n",
       "      <td>56.511902</td>\n",
       "    </tr>\n",
       "    <tr>\n",
       "      <th>4</th>\n",
       "      <td>75.502703</td>\n",
       "      <td>669.252250</td>\n",
       "      <td>2634.067409</td>\n",
       "      <td>691.979475</td>\n",
       "      <td>0.000000</td>\n",
       "      <td>731.210183</td>\n",
       "      <td>761.473009</td>\n",
       "      <td>2394.344487</td>\n",
       "      <td>731.210183</td>\n",
       "    </tr>\n",
       "    <tr>\n",
       "      <th>5</th>\n",
       "      <td>683.878447</td>\n",
       "      <td>82.517431</td>\n",
       "      <td>2073.691776</td>\n",
       "      <td>56.511902</td>\n",
       "      <td>731.210183</td>\n",
       "      <td>0.000000</td>\n",
       "      <td>44.223991</td>\n",
       "      <td>3018.483501</td>\n",
       "      <td>0.000000</td>\n",
       "    </tr>\n",
       "    <tr>\n",
       "      <th>6</th>\n",
       "      <td>714.597479</td>\n",
       "      <td>119.427400</td>\n",
       "      <td>2071.324890</td>\n",
       "      <td>74.895048</td>\n",
       "      <td>761.473009</td>\n",
       "      <td>44.223991</td>\n",
       "      <td>0.000000</td>\n",
       "      <td>3038.014901</td>\n",
       "      <td>44.223991</td>\n",
       "    </tr>\n",
       "    <tr>\n",
       "      <th>7</th>\n",
       "      <td>2453.898600</td>\n",
       "      <td>2952.081351</td>\n",
       "      <td>4904.275758</td>\n",
       "      <td>2968.579840</td>\n",
       "      <td>2394.344487</td>\n",
       "      <td>3018.483501</td>\n",
       "      <td>3038.014901</td>\n",
       "      <td>0.000000</td>\n",
       "      <td>3018.483501</td>\n",
       "    </tr>\n",
       "    <tr>\n",
       "      <th>8</th>\n",
       "      <td>683.878447</td>\n",
       "      <td>82.517431</td>\n",
       "      <td>2073.691776</td>\n",
       "      <td>56.511902</td>\n",
       "      <td>731.210183</td>\n",
       "      <td>0.000000</td>\n",
       "      <td>44.223991</td>\n",
       "      <td>3018.483501</td>\n",
       "      <td>0.000000</td>\n",
       "    </tr>\n",
       "  </tbody>\n",
       "</table>\n",
       "</div>"
      ],
      "text/plain": [
       "             0            1            2            3            4  \\\n",
       "0     0.000000   624.422555  2578.312157   646.590947    75.502703   \n",
       "1   624.422555     0.000000  2113.815508    70.045904   669.252250   \n",
       "2  2578.312157  2113.815508     0.000000  2125.206522  2634.067409   \n",
       "3   646.590947    70.045904  2125.206522     0.000000   691.979475   \n",
       "4    75.502703   669.252250  2634.067409   691.979475     0.000000   \n",
       "5   683.878447    82.517431  2073.691776    56.511902   731.210183   \n",
       "6   714.597479   119.427400  2071.324890    74.895048   761.473009   \n",
       "7  2453.898600  2952.081351  4904.275758  2968.579840  2394.344487   \n",
       "8   683.878447    82.517431  2073.691776    56.511902   731.210183   \n",
       "\n",
       "             5            6            7            8  \n",
       "0   683.878447   714.597479  2453.898600   683.878447  \n",
       "1    82.517431   119.427400  2952.081351    82.517431  \n",
       "2  2073.691776  2071.324890  4904.275758  2073.691776  \n",
       "3    56.511902    74.895048  2968.579840    56.511902  \n",
       "4   731.210183   761.473009  2394.344487   731.210183  \n",
       "5     0.000000    44.223991  3018.483501     0.000000  \n",
       "6    44.223991     0.000000  3038.014901    44.223991  \n",
       "7  3018.483501  3038.014901     0.000000  3018.483501  \n",
       "8     0.000000    44.223991  3018.483501     0.000000  "
      ]
     },
     "execution_count": 166,
     "metadata": {},
     "output_type": "execute_result"
    }
   ],
   "source": [
    "print([len(i) for i in yvalues])\n",
    "totaldata = np.vstack(yvalues)\n",
    "print(totaldata.shape)\n",
    "\n",
    "from sklearn.metrics.pairwise import euclidean_distances\n",
    "import pandas as pd\n",
    "pd.DataFrame(euclidean_distances(totaldata))"
   ]
  },
  {
   "cell_type": "code",
   "execution_count": null,
   "metadata": {
    "collapsed": true
   },
   "outputs": [],
   "source": []
  },
  {
   "cell_type": "code",
   "execution_count": null,
   "metadata": {
    "collapsed": true
   },
   "outputs": [],
   "source": []
  }
 ],
 "metadata": {
  "kernelspec": {
   "display_name": "Python 3",
   "language": "python",
   "name": "python3"
  },
  "language_info": {
   "codemirror_mode": {
    "name": "ipython",
    "version": 3
   },
   "file_extension": ".py",
   "mimetype": "text/x-python",
   "name": "python",
   "nbconvert_exporter": "python",
   "pygments_lexer": "ipython3",
   "version": "3.5.2"
  }
 },
 "nbformat": 4,
 "nbformat_minor": 0
}
