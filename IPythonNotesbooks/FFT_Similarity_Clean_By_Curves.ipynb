{
 "cells": [
  {
   "cell_type": "markdown",
   "metadata": {
    "deletable": true,
    "editable": true
   },
   "source": [
    "# Visual evaluation of top FFT matches based on similarity on clean data"
   ]
  },
  {
   "cell_type": "code",
   "execution_count": 1,
   "metadata": {
    "collapsed": true
   },
   "outputs": [],
   "source": [
    "import numpy as np\n",
    "import sys\n",
    "import csv\n",
    "import scipy.io as sio\n",
    "from scipy.fftpack import fft, ifft\n",
    "import os\n",
    "import operator\n",
    "import pandas as pd\n",
    "import matplotlib.pyplot as plt\n",
    "from IPython.display import display, Image"
   ]
  },
  {
   "cell_type": "code",
   "execution_count": 2,
   "metadata": {
    "collapsed": false,
    "deletable": true,
    "editable": true
   },
   "outputs": [],
   "source": [
    "%matplotlib inline"
   ]
  },
  {
   "cell_type": "code",
   "execution_count": 3,
   "metadata": {
    "collapsed": true,
    "deletable": true,
    "editable": true
   },
   "outputs": [],
   "source": [
    "base_dir = '/home/ibanez/data/amnh/darwin_notes/'\n",
    "#base_dir = '/data/amnh/darwin/'\n",
    "curves_fft_dir = base_dir + 'image_csvs_fft/'\n",
    "fft_similarity_dir = base_dir + 'fft_similarity_clean/'\n",
    "base_image_dir = base_dir + 'images/'\n",
    "base_fft_dir = base_dir + 'image_csvs_fft/'\n",
    "base_csv_dir = base_dir + 'image_csvs/'"
   ]
  },
  {
   "cell_type": "code",
   "execution_count": 4,
   "metadata": {
    "collapsed": false,
    "deletable": true,
    "editable": true
   },
   "outputs": [
    {
     "data": {
      "text/html": [
       "<div>\n",
       "<table border=\"1\" class=\"dataframe\">\n",
       "  <thead>\n",
       "    <tr style=\"text-align: right;\">\n",
       "      <th></th>\n",
       "      <th>image1</th>\n",
       "      <th>image2</th>\n",
       "      <th>fft_score</th>\n",
       "    </tr>\n",
       "  </thead>\n",
       "  <tbody>\n",
       "    <tr>\n",
       "      <th>0</th>\n",
       "      <td>MS-DAR-00048-000-00189_south</td>\n",
       "      <td>MS-DAR-00048-000-00189_north_fft.mat</td>\n",
       "      <td>0.999921</td>\n",
       "    </tr>\n",
       "    <tr>\n",
       "      <th>1</th>\n",
       "      <td>MS-DAR-00089-000-00017_north</td>\n",
       "      <td>MS-DAR-00205-00002-000-00431_north_fft.mat</td>\n",
       "      <td>0.999893</td>\n",
       "    </tr>\n",
       "    <tr>\n",
       "      <th>2</th>\n",
       "      <td>MS-DAR-00087-000-00010_south</td>\n",
       "      <td>MS-DAR-00087-000-00008_north_fft.mat</td>\n",
       "      <td>0.999853</td>\n",
       "    </tr>\n",
       "    <tr>\n",
       "      <th>3</th>\n",
       "      <td>MS-DAR-00085-000-00150_south</td>\n",
       "      <td>MS-DAR-00084-00002-000-00307_north_fft.mat</td>\n",
       "      <td>0.999843</td>\n",
       "    </tr>\n",
       "    <tr>\n",
       "      <th>4</th>\n",
       "      <td>MS-DAR-00209-00009-000-00088_south</td>\n",
       "      <td>MS-DAR-00209-00009-000-00168_north_fft.mat</td>\n",
       "      <td>0.999837</td>\n",
       "    </tr>\n",
       "  </tbody>\n",
       "</table>\n",
       "</div>"
      ],
      "text/plain": [
       "                               image1  \\\n",
       "0        MS-DAR-00048-000-00189_south   \n",
       "1        MS-DAR-00089-000-00017_north   \n",
       "2        MS-DAR-00087-000-00010_south   \n",
       "3        MS-DAR-00085-000-00150_south   \n",
       "4  MS-DAR-00209-00009-000-00088_south   \n",
       "\n",
       "                                       image2  fft_score  \n",
       "0        MS-DAR-00048-000-00189_north_fft.mat   0.999921  \n",
       "1  MS-DAR-00205-00002-000-00431_north_fft.mat   0.999893  \n",
       "2        MS-DAR-00087-000-00008_north_fft.mat   0.999853  \n",
       "3  MS-DAR-00084-00002-000-00307_north_fft.mat   0.999843  \n",
       "4  MS-DAR-00209-00009-000-00168_north_fft.mat   0.999837  "
      ]
     },
     "execution_count": 4,
     "metadata": {},
     "output_type": "execute_result"
    }
   ],
   "source": [
    "top_matches = pd.read_csv(base_dir + 'top_items_sorted.txt', index_col=False, header=None, sep=' ');\n",
    "top_matches.columns = [\"image1\",\"image2\",\"fft_score\"]\n",
    "top_matches.head()"
   ]
  },
  {
   "cell_type": "code",
   "execution_count": 5,
   "metadata": {
    "collapsed": true,
    "deletable": true,
    "editable": true
   },
   "outputs": [],
   "source": [
    "def save_match(row_index):\n",
    "    with open(\"/data/amnh/darwin/confirmed_matches.csv\", \"a+\") as f:        \n",
    "        image1_basename = top_matches[\"image1\"][row_index]\n",
    "        image2_basename = top_matches[\"image2\"][row_index]\n",
    "        fft_score = top_matches[\"fft_score\"][row_index]\n",
    "        print(image1_basename, image2_basename, fft_score)\n",
    "        image1_filename = image1_basename[:-6] + '.jpg'\n",
    "        image2_filename = image2_basename[:-14] + '.jpg'\n",
    "        print(image1_filename)\n",
    "        print(image2_filename)\n",
    "        \n",
    "        if 'south' in image1_basename:\n",
    "            f.write(\"{},{},{}\\n\".format(image2_filename, image1_filename, fft_score))\n",
    "        else:\n",
    "            f.write(\"{},{},{}\\n\".format(image1_filename, image2_filename, fft_score))"
   ]
  },
  {
   "cell_type": "code",
   "execution_count": 6,
   "metadata": {
    "collapsed": false,
    "deletable": true,
    "editable": true
   },
   "outputs": [],
   "source": [
    "def check_match_curves(row_index):\n",
    "    image1_basename = top_matches[\"image1\"][row_index]\n",
    "    image2_basename = top_matches[\"image2\"][row_index]\n",
    "    fft_score = top_matches[\"fft_score\"][row_index]\n",
    "    print(image1_basename, image2_basename, fft_score)\n",
    "    fft1_filename = base_fft_dir + image1_basename + '_fft.mat'\n",
    "    fft2_filename = base_fft_dir + image2_basename\n",
    "    print(fft1_filename)\n",
    "    print(fft2_filename)\n",
    "    curve1_filename = base_csv_dir + image1_basename + '.csv'\n",
    "    curve2_filename = base_csv_dir + image2_basename[:-8] + '.csv'\n",
    "    print(curve1_filename)\n",
    "    print(curve2_filename)\n",
    "    if 'south' in image1_basename and 'south' in image2_basename:\n",
    "        print('CONFLICTING BORDERS!')\n",
    "        return\n",
    "    if 'north' in image1_basename and 'north' in image2_basename:\n",
    "        print('CONFLICTING BORDERS!')\n",
    "        return\n",
    "    fft1 = sio.loadmat(fft1_filename)['fft']\n",
    "    fft2 = sio.loadmat(fft2_filename)['fft']\n",
    "    curve1restored = np.real(ifft(fft1))\n",
    "    curve2restored = np.real(ifft(fft2))\n",
    "    curve1xy = pd.read_csv(curve1_filename)\n",
    "    curve2xy = pd.read_csv(curve2_filename)\n",
    "    curve1xyn = curve1xy - curve1xy.mean()\n",
    "    curve2xyn = curve2xy - curve2xy.mean()\n",
    "    curve1y = curve1xyn.ix[:,1] \n",
    "    curve2y = curve2xyn.ix[:,1] \n",
    "    plt.figure()\n",
    "    plt.plot(curve1y)\n",
    "    plt.plot(curve2y)\n"
   ]
  },
  {
   "cell_type": "code",
   "execution_count": 7,
   "metadata": {
    "collapsed": false,
    "deletable": true,
    "editable": true
   },
   "outputs": [
    {
     "name": "stdout",
     "output_type": "stream",
     "text": [
      "MS-DAR-00209-00009-000-00088_south MS-DAR-00209-00009-000-00168_north_fft.mat 0.999836635012\n",
      "/home/ibanez/data/amnh/darwin_notes/image_csvs_fft/MS-DAR-00209-00009-000-00088_south_fft.mat\n",
      "/home/ibanez/data/amnh/darwin_notes/image_csvs_fft/MS-DAR-00209-00009-000-00168_north_fft.mat\n",
      "/home/ibanez/data/amnh/darwin_notes/image_csvs/MS-DAR-00209-00009-000-00088_south.csv\n",
      "/home/ibanez/data/amnh/darwin_notes/image_csvs/MS-DAR-00209-00009-000-00168_north.csv\n"
     ]
    },
    {
     "data": {
      "image/png": "[encoded data removed]",
      "text/plain": [
       "<matplotlib.figure.Figure at 0x7f3e6580b2b0>"
      ]
     },
     "metadata": {},
     "output_type": "display_data"
    }
   ],
   "source": [
    "check_match_curves(4)"
   ]
  },
  {
   "cell_type": "code",
   "execution_count": null,
   "metadata": {
    "collapsed": true
   },
   "outputs": [],
   "source": []
  }
 ],
 "metadata": {
  "kernelspec": {
   "display_name": "Python 3",
   "language": "python",
   "name": "python3"
  },
  "language_info": {
   "codemirror_mode": {
    "name": "ipython",
    "version": 3
   },
   "file_extension": ".py",
   "mimetype": "text/x-python",
   "name": "python",
   "nbconvert_exporter": "python",
   "pygments_lexer": "ipython3",
   "version": "3.4.2"
  }
 },
 "nbformat": 4,
 "nbformat_minor": 2
}
