{
 "cells": [
  {
   "cell_type": "markdown",
   "metadata": {
    "deletable": true,
    "editable": true
   },
   "source": [
    "# Visual evaluation of top FFT matches based on similarity on clean data"
   ]
  },
  {
   "cell_type": "code",
   "execution_count": 1,
   "metadata": {
    "collapsed": false
   },
   "outputs": [],
   "source": [
    "import numpy as np\n",
    "import sys\n",
    "import csv\n",
    "import scipy.io as sio\n",
    "from scipy.fftpack import fft, ifft\n",
    "from sklearn.metrics import mean_squared_error\n",
    "from math import sqrt\n",
    "import os\n",
    "import operator\n",
    "import pandas as pd\n",
    "import matplotlib.pyplot as plt\n",
    "from IPython.display import display, Image"
   ]
  },
  {
   "cell_type": "code",
   "execution_count": 2,
   "metadata": {
    "collapsed": false,
    "deletable": true,
    "editable": true
   },
   "outputs": [],
   "source": [
    "%matplotlib inline"
   ]
  },
  {
   "cell_type": "code",
   "execution_count": 3,
   "metadata": {
    "collapsed": true,
    "deletable": true,
    "editable": true
   },
   "outputs": [],
   "source": [
    "#base_dir = '/home/ibanez/data/amnh/darwin_notes/'\n",
    "base_dir = '/data/amnh/darwin/'\n",
    "curves_fft_dir = base_dir + 'image_csvs_fft/'\n",
    "fft_similarity_dir = base_dir + 'fft_similarity_clean/'\n",
    "base_image_dir = base_dir + 'images/'\n",
    "base_fft_dir = base_dir + 'image_csvs_fft/'\n",
    "base_csv_dir = base_dir + 'image_csvs/'"
   ]
  },
  {
   "cell_type": "code",
   "execution_count": 4,
   "metadata": {
    "collapsed": false,
    "deletable": true,
    "editable": true
   },
   "outputs": [
    {
     "data": {
      "text/html": [
       "<div>\n",
       "<table border=\"1\" class=\"dataframe\">\n",
       "  <thead>\n",
       "    <tr style=\"text-align: right;\">\n",
       "      <th></th>\n",
       "      <th>image1</th>\n",
       "      <th>image2</th>\n",
       "      <th>fft_score</th>\n",
       "    </tr>\n",
       "  </thead>\n",
       "  <tbody>\n",
       "    <tr>\n",
       "      <th>0</th>\n",
       "      <td>MS-DAR-00048-000-00189_south</td>\n",
       "      <td>MS-DAR-00048-000-00189_north_fft.mat</td>\n",
       "      <td>0.999921</td>\n",
       "    </tr>\n",
       "    <tr>\n",
       "      <th>1</th>\n",
       "      <td>MS-DAR-00089-000-00017_north</td>\n",
       "      <td>MS-DAR-00205-00002-000-00431_north_fft.mat</td>\n",
       "      <td>0.999893</td>\n",
       "    </tr>\n",
       "    <tr>\n",
       "      <th>2</th>\n",
       "      <td>MS-DAR-00087-000-00010_south</td>\n",
       "      <td>MS-DAR-00087-000-00008_north_fft.mat</td>\n",
       "      <td>0.999853</td>\n",
       "    </tr>\n",
       "    <tr>\n",
       "      <th>3</th>\n",
       "      <td>MS-DAR-00085-000-00150_south</td>\n",
       "      <td>MS-DAR-00084-00002-000-00307_north_fft.mat</td>\n",
       "      <td>0.999843</td>\n",
       "    </tr>\n",
       "    <tr>\n",
       "      <th>4</th>\n",
       "      <td>MS-DAR-00209-00009-000-00088_south</td>\n",
       "      <td>MS-DAR-00209-00009-000-00168_north_fft.mat</td>\n",
       "      <td>0.999837</td>\n",
       "    </tr>\n",
       "  </tbody>\n",
       "</table>\n",
       "</div>"
      ],
      "text/plain": [
       "                               image1  \\\n",
       "0        MS-DAR-00048-000-00189_south   \n",
       "1        MS-DAR-00089-000-00017_north   \n",
       "2        MS-DAR-00087-000-00010_south   \n",
       "3        MS-DAR-00085-000-00150_south   \n",
       "4  MS-DAR-00209-00009-000-00088_south   \n",
       "\n",
       "                                       image2  fft_score  \n",
       "0        MS-DAR-00048-000-00189_north_fft.mat   0.999921  \n",
       "1  MS-DAR-00205-00002-000-00431_north_fft.mat   0.999893  \n",
       "2        MS-DAR-00087-000-00008_north_fft.mat   0.999853  \n",
       "3  MS-DAR-00084-00002-000-00307_north_fft.mat   0.999843  \n",
       "4  MS-DAR-00209-00009-000-00168_north_fft.mat   0.999837  "
      ]
     },
     "execution_count": 4,
     "metadata": {},
     "output_type": "execute_result"
    }
   ],
   "source": [
    "top_matches = pd.read_csv(base_dir + 'top_items_sorted.txt', index_col=False, header=None, sep=' ');\n",
    "top_matches.columns = [\"image1\",\"image2\",\"fft_score\"]\n",
    "top_matches.head()"
   ]
  },
  {
   "cell_type": "code",
   "execution_count": 5,
   "metadata": {
    "collapsed": true,
    "deletable": true,
    "editable": true
   },
   "outputs": [],
   "source": [
    "def save_match(row_index):\n",
    "    with open(\"/data/amnh/darwin/confirmed_matches.csv\", \"a+\") as f:        \n",
    "        image1_basename = top_matches[\"image1\"][row_index]\n",
    "        image2_basename = top_matches[\"image2\"][row_index]\n",
    "        fft_score = top_matches[\"fft_score\"][row_index]\n",
    "        print(image1_basename, image2_basename, fft_score)\n",
    "        image1_filename = image1_basename[:-6] + '.jpg'\n",
    "        image2_filename = image2_basename[:-14] + '.jpg'\n",
    "        print(image1_filename)\n",
    "        print(image2_filename)\n",
    "        \n",
    "        if 'south' in image1_basename:\n",
    "            f.write(\"{},{},{}\\n\".format(image2_filename, image1_filename, fft_score))\n",
    "        else:\n",
    "            f.write(\"{},{},{}\\n\".format(image1_filename, image2_filename, fft_score))"
   ]
  },
  {
   "cell_type": "code",
   "execution_count": 6,
   "metadata": {
    "collapsed": false,
    "deletable": true,
    "editable": true
   },
   "outputs": [],
   "source": [
    "def check_match_curves(row_index):\n",
    "    image1_basename = top_matches[\"image1\"][row_index]\n",
    "    image2_basename = top_matches[\"image2\"][row_index]\n",
    "    fft_score = top_matches[\"fft_score\"][row_index]\n",
    "    fft1_filename = base_fft_dir + image1_basename + '_fft.mat'\n",
    "    fft2_filename = base_fft_dir + image2_basename\n",
    "    curve1_filename = base_csv_dir + image1_basename + '.csv'\n",
    "    curve2_filename = base_csv_dir + image2_basename[:-8] + '.csv'\n",
    "    if 'south' in image1_basename and 'south' in image2_basename:\n",
    "        print('CONFLICTING BORDERS!')\n",
    "        return\n",
    "    if 'north' in image1_basename and 'north' in image2_basename:\n",
    "        print('CONFLICTING BORDERS!')\n",
    "        return\n",
    "    fft1 = sio.loadmat(fft1_filename)['fft']\n",
    "    fft2 = sio.loadmat(fft2_filename)['fft']\n",
    "    curve1restored = np.real(ifft(fft1))\n",
    "    curve2restored = np.real(ifft(fft2))\n",
    "    curve1xy = pd.read_csv(curve1_filename)\n",
    "    curve2xy = pd.read_csv(curve2_filename)\n",
    "    curve1xyn = curve1xy - curve1xy.mean()\n",
    "    curve2xyn = curve2xy - curve2xy.mean()\n",
    "    curve1y = curve1xyn.ix[:,1] \n",
    "    curve2y = curve2xyn.ix[:,1]\n",
    "    commonsize = min(curve1y.size, curve2y.size)\n",
    "    curve1yt = curve1y[:commonsize]\n",
    "    curve2yt = curve2y[:commonsize]\n",
    "    rms = sqrt(mean_squared_error(curve1yt,curve2yt))\n",
    "    print(rms)\n",
    "    print(curve1_filename)\n",
    "    print(curve2_filename)\n",
    "    plt.figure()\n",
    "    plt.plot(curve1y)\n",
    "    plt.plot(curve2y)"
   ]
  },
  {
   "cell_type": "code",
   "execution_count": 7,
   "metadata": {
    "collapsed": true
   },
   "outputs": [],
   "source": [
    "def compute_match_curves(row_index):\n",
    "    image1_basename = top_matches[\"image1\"][row_index]\n",
    "    image2_basename = top_matches[\"image2\"][row_index]\n",
    "    fft_score = top_matches[\"fft_score\"][row_index]\n",
    "    image1_filename = image1_basename[:-6] + '.jpg'\n",
    "    image2_filename = image2_basename[:-14] + '.jpg'\n",
    "    fft1_filename = base_fft_dir + image1_basename + '_fft.mat'\n",
    "    fft2_filename = base_fft_dir + image2_basename\n",
    "    curve1_filename = base_csv_dir + image1_basename + '.csv'\n",
    "    curve2_filename = base_csv_dir + image2_basename[:-8] + '.csv'\n",
    "    curve1xy = pd.read_csv(curve1_filename)\n",
    "    curve2xy = pd.read_csv(curve2_filename)\n",
    "    curve1xyn = curve1xy - curve1xy.mean()\n",
    "    curve2xyn = curve2xy - curve2xy.mean()\n",
    "    curve1y = curve1xyn.ix[:,1] \n",
    "    curve2y = curve2xyn.ix[:,1]\n",
    "    commonsize = min(curve1y.size, curve2y.size)\n",
    "    curve1yt = curve1y[:commonsize]\n",
    "    curve2yt = curve2y[:commonsize]\n",
    "    pow1 = sqrt((curve1yt**2).sum())\n",
    "    pow2 = sqrt((curve2yt**2).sum())\n",
    "    rms = sqrt(mean_squared_error(curve1yt,curve2yt))\n",
    "    if 'south' in image1_basename and 'south' in image2_basename:\n",
    "        rms = 0.5 # force it to the bottom of the pile\n",
    "    if 'north' in image1_basename and 'north' in image2_basename:\n",
    "        rms = 0.5 # force it to the bottom of the pile\n",
    "    return rms, fft_score, row_index, pow1, pow2, image1_filename, image2_filename"
   ]
  },
  {
   "cell_type": "code",
   "execution_count": 8,
   "metadata": {
    "collapsed": false
   },
   "outputs": [],
   "source": [
    "rmss = [compute_match_curves(x) for x in range(0,100)]"
   ]
  },
  {
   "cell_type": "code",
   "execution_count": 9,
   "metadata": {
    "collapsed": false
   },
   "outputs": [],
   "source": [
    "review = pd.DataFrame(sorted(rmss,key=operator.itemgetter(3)))"
   ]
  },
  {
   "cell_type": "code",
   "execution_count": 10,
   "metadata": {
    "collapsed": false
   },
   "outputs": [
    {
     "data": {
      "text/html": [
       "<div>\n",
       "<table border=\"1\" class=\"dataframe\">\n",
       "  <thead>\n",
       "    <tr style=\"text-align: right;\">\n",
       "      <th></th>\n",
       "      <th>0</th>\n",
       "      <th>1</th>\n",
       "      <th>2</th>\n",
       "      <th>3</th>\n",
       "      <th>4</th>\n",
       "      <th>5</th>\n",
       "      <th>6</th>\n",
       "    </tr>\n",
       "  </thead>\n",
       "  <tbody>\n",
       "    <tr>\n",
       "      <th>0</th>\n",
       "      <td>0.088407</td>\n",
       "      <td>0.999619</td>\n",
       "      <td>18</td>\n",
       "      <td>0.695093</td>\n",
       "      <td>1.629041</td>\n",
       "      <td>MS-DAR-00209-00010-000-00150.jpg</td>\n",
       "      <td>MS-DAR-00209-00014-000-00124.jpg</td>\n",
       "    </tr>\n",
       "    <tr>\n",
       "      <th>1</th>\n",
       "      <td>0.052801</td>\n",
       "      <td>0.999484</td>\n",
       "      <td>35</td>\n",
       "      <td>0.809243</td>\n",
       "      <td>1.031504</td>\n",
       "      <td>MS-DAR-00053-00001-000-00038.jpg</td>\n",
       "      <td>MS-DAR-00003-000-00285.jpg</td>\n",
       "    </tr>\n",
       "    <tr>\n",
       "      <th>2</th>\n",
       "      <td>0.500000</td>\n",
       "      <td>0.999111</td>\n",
       "      <td>89</td>\n",
       "      <td>0.879807</td>\n",
       "      <td>2.908581</td>\n",
       "      <td>MS-DAR-00205-00009-000-00712.jpg</td>\n",
       "      <td>MS-DAR-00209-00009-000-00070.jpg</td>\n",
       "    </tr>\n",
       "    <tr>\n",
       "      <th>3</th>\n",
       "      <td>0.500000</td>\n",
       "      <td>0.999266</td>\n",
       "      <td>65</td>\n",
       "      <td>0.895806</td>\n",
       "      <td>2.397581</td>\n",
       "      <td>MS-DAR-00058-00001-000-00082.jpg</td>\n",
       "      <td>MS-DAR-00083-000-00144.jpg</td>\n",
       "    </tr>\n",
       "    <tr>\n",
       "      <th>4</th>\n",
       "      <td>0.133498</td>\n",
       "      <td>0.999921</td>\n",
       "      <td>0</td>\n",
       "      <td>0.917453</td>\n",
       "      <td>0.913018</td>\n",
       "      <td>MS-DAR-00048-000-00189.jpg</td>\n",
       "      <td>MS-DAR-00048-000-00189.jpg</td>\n",
       "    </tr>\n",
       "  </tbody>\n",
       "</table>\n",
       "</div>"
      ],
      "text/plain": [
       "          0         1   2         3         4  \\\n",
       "0  0.088407  0.999619  18  0.695093  1.629041   \n",
       "1  0.052801  0.999484  35  0.809243  1.031504   \n",
       "2  0.500000  0.999111  89  0.879807  2.908581   \n",
       "3  0.500000  0.999266  65  0.895806  2.397581   \n",
       "4  0.133498  0.999921   0  0.917453  0.913018   \n",
       "\n",
       "                                  5                                 6  \n",
       "0  MS-DAR-00209-00010-000-00150.jpg  MS-DAR-00209-00014-000-00124.jpg  \n",
       "1  MS-DAR-00053-00001-000-00038.jpg        MS-DAR-00003-000-00285.jpg  \n",
       "2  MS-DAR-00205-00009-000-00712.jpg  MS-DAR-00209-00009-000-00070.jpg  \n",
       "3  MS-DAR-00058-00001-000-00082.jpg        MS-DAR-00083-000-00144.jpg  \n",
       "4        MS-DAR-00048-000-00189.jpg        MS-DAR-00048-000-00189.jpg  "
      ]
     },
     "execution_count": 10,
     "metadata": {},
     "output_type": "execute_result"
    }
   ],
   "source": [
    "review.head()"
   ]
  },
  {
   "cell_type": "code",
   "execution_count": 11,
   "metadata": {
    "collapsed": false
   },
   "outputs": [
    {
     "data": {
      "text/html": [
       "<div>\n",
       "<table border=\"1\" class=\"dataframe\">\n",
       "  <thead>\n",
       "    <tr style=\"text-align: right;\">\n",
       "      <th></th>\n",
       "      <th>0</th>\n",
       "      <th>1</th>\n",
       "      <th>2</th>\n",
       "      <th>3</th>\n",
       "      <th>4</th>\n",
       "      <th>5</th>\n",
       "      <th>6</th>\n",
       "    </tr>\n",
       "  </thead>\n",
       "  <tbody>\n",
       "    <tr>\n",
       "      <th>95</th>\n",
       "      <td>0.007774</td>\n",
       "      <td>0.999662</td>\n",
       "      <td>14</td>\n",
       "      <td>11.384572</td>\n",
       "      <td>10.930244</td>\n",
       "      <td>MS-DAR-00209-00010-000-00084.jpg</td>\n",
       "      <td>MS-DAR-00209-00014-000-00016.jpg</td>\n",
       "    </tr>\n",
       "    <tr>\n",
       "      <th>96</th>\n",
       "      <td>0.016679</td>\n",
       "      <td>0.999689</td>\n",
       "      <td>11</td>\n",
       "      <td>11.608279</td>\n",
       "      <td>10.575897</td>\n",
       "      <td>MS-DAR-00085-000-00151.jpg</td>\n",
       "      <td>MS-DAR-00084-00002-000-00308.jpg</td>\n",
       "    </tr>\n",
       "    <tr>\n",
       "      <th>97</th>\n",
       "      <td>0.010436</td>\n",
       "      <td>0.999837</td>\n",
       "      <td>4</td>\n",
       "      <td>12.335210</td>\n",
       "      <td>11.661802</td>\n",
       "      <td>MS-DAR-00209-00009-000-00088.jpg</td>\n",
       "      <td>MS-DAR-00209-00009-000-00168.jpg</td>\n",
       "    </tr>\n",
       "    <tr>\n",
       "      <th>98</th>\n",
       "      <td>0.500000</td>\n",
       "      <td>0.999509</td>\n",
       "      <td>27</td>\n",
       "      <td>12.847964</td>\n",
       "      <td>2.116071</td>\n",
       "      <td>MS-DAR-00205-00007-000-00512.jpg</td>\n",
       "      <td>MS-DAR-00057-000-00308.jpg</td>\n",
       "    </tr>\n",
       "    <tr>\n",
       "      <th>99</th>\n",
       "      <td>0.181807</td>\n",
       "      <td>0.999199</td>\n",
       "      <td>78</td>\n",
       "      <td>14.304648</td>\n",
       "      <td>2.097219</td>\n",
       "      <td>MS-DAR-00087-000-00363.jpg</td>\n",
       "      <td>MS-DAR-00012-000-00385.jpg</td>\n",
       "    </tr>\n",
       "  </tbody>\n",
       "</table>\n",
       "</div>"
      ],
      "text/plain": [
       "           0         1   2          3          4  \\\n",
       "95  0.007774  0.999662  14  11.384572  10.930244   \n",
       "96  0.016679  0.999689  11  11.608279  10.575897   \n",
       "97  0.010436  0.999837   4  12.335210  11.661802   \n",
       "98  0.500000  0.999509  27  12.847964   2.116071   \n",
       "99  0.181807  0.999199  78  14.304648   2.097219   \n",
       "\n",
       "                                   5                                 6  \n",
       "95  MS-DAR-00209-00010-000-00084.jpg  MS-DAR-00209-00014-000-00016.jpg  \n",
       "96        MS-DAR-00085-000-00151.jpg  MS-DAR-00084-00002-000-00308.jpg  \n",
       "97  MS-DAR-00209-00009-000-00088.jpg  MS-DAR-00209-00009-000-00168.jpg  \n",
       "98  MS-DAR-00205-00007-000-00512.jpg        MS-DAR-00057-000-00308.jpg  \n",
       "99        MS-DAR-00087-000-00363.jpg        MS-DAR-00012-000-00385.jpg  "
      ]
     },
     "execution_count": 11,
     "metadata": {},
     "output_type": "execute_result"
    }
   ],
   "source": [
    "review.tail()"
   ]
  },
  {
   "cell_type": "code",
   "execution_count": 12,
   "metadata": {
    "collapsed": false
   },
   "outputs": [
    {
     "data": {
      "text/plain": [
       "<matplotlib.collections.PathCollection at 0x7fe2424636d8>"
      ]
     },
     "execution_count": 12,
     "metadata": {},
     "output_type": "execute_result"
    },
    {
     "data": {
      "image/png": "[encoded data removed]",
      "text/plain": [
       "<matplotlib.figure.Figure at 0x7fe2424ea470>"
      ]
     },
     "metadata": {},
     "output_type": "display_data"
    }
   ],
   "source": [
    "plt.scatter(review[0], review[3])"
   ]
  },
  {
   "cell_type": "code",
   "execution_count": 13,
   "metadata": {
    "collapsed": false,
    "deletable": true,
    "editable": true
   },
   "outputs": [
    {
     "name": "stdout",
     "output_type": "stream",
     "text": [
      "0.007774177767876896\n",
      "/data/amnh/darwin/image_csvs/MS-DAR-00209-00010-000-00084_south.csv\n",
      "/data/amnh/darwin/image_csvs/MS-DAR-00209-00014-000-00016_north.csv\n"
     ]
    },
    {
     "data": {
      "image/png": "[encoded data removed]",
      "text/plain": [
       "<matplotlib.figure.Figure at 0x7fe24255a860>"
      ]
     },
     "metadata": {},
     "output_type": "display_data"
    }
   ],
   "source": [
    "check_match_curves(14)"
   ]
  },
  {
   "cell_type": "code",
   "execution_count": null,
   "metadata": {
    "collapsed": true
   },
   "outputs": [],
   "source": []
  }
 ],
 "metadata": {
  "kernelspec": {
   "display_name": "Python 3",
   "language": "python",
   "name": "python3"
  },
  "language_info": {
   "codemirror_mode": {
    "name": "ipython",
    "version": 3
   },
   "file_extension": ".py",
   "mimetype": "text/x-python",
   "name": "python",
   "nbconvert_exporter": "python",
   "pygments_lexer": "ipython3",
   "version": "3.4.2"
  }
 },
 "nbformat": 4,
 "nbformat_minor": 2
}
