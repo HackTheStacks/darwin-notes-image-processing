{
 "cells": [
  {
   "cell_type": "markdown",
   "metadata": {
    "deletable": true,
    "editable": true
   },
   "source": [
    "# Visual evaluation of top FFT matches based on similarity on clean data"
   ]
  },
  {
   "cell_type": "code",
   "execution_count": 1,
   "metadata": {
    "collapsed": false
   },
   "outputs": [],
   "source": [
    "import numpy as np\n",
    "import sys\n",
    "import csv\n",
    "import scipy.io as sio\n",
    "from scipy.fftpack import fft, ifft\n",
    "from sklearn.metrics import mean_squared_error\n",
    "from math import sqrt\n",
    "import os\n",
    "import operator\n",
    "import pandas as pd\n",
    "import matplotlib.pyplot as plt\n",
    "from IPython.display import display, Image"
   ]
  },
  {
   "cell_type": "code",
   "execution_count": 2,
   "metadata": {
    "collapsed": false,
    "deletable": true,
    "editable": true
   },
   "outputs": [],
   "source": [
    "%matplotlib inline"
   ]
  },
  {
   "cell_type": "code",
   "execution_count": 3,
   "metadata": {
    "collapsed": true,
    "deletable": true,
    "editable": true
   },
   "outputs": [],
   "source": [
    "#base_dir = '/home/ibanez/data/amnh/darwin_notes/'\n",
    "base_dir = '/data/amnh/darwin/'\n",
    "curves_fft_dir = base_dir + 'image_csvs_fft/'\n",
    "fft_similarity_dir = base_dir + 'fft_similarity_clean/'\n",
    "base_image_dir = base_dir + 'images/'\n",
    "base_fft_dir = base_dir + 'image_csvs_fft/'\n",
    "base_csv_dir = base_dir + 'image_csvs/'"
   ]
  },
  {
   "cell_type": "code",
   "execution_count": 4,
   "metadata": {
    "collapsed": false,
    "deletable": true,
    "editable": true
   },
   "outputs": [
    {
     "data": {
      "text/html": [
       "<div>\n",
       "<table border=\"1\" class=\"dataframe\">\n",
       "  <thead>\n",
       "    <tr style=\"text-align: right;\">\n",
       "      <th></th>\n",
       "      <th>image1</th>\n",
       "      <th>image2</th>\n",
       "      <th>fft_score</th>\n",
       "    </tr>\n",
       "  </thead>\n",
       "  <tbody>\n",
       "    <tr>\n",
       "      <th>0</th>\n",
       "      <td>MS-DAR-00048-000-00189_south</td>\n",
       "      <td>MS-DAR-00048-000-00189_north_fft.mat</td>\n",
       "      <td>0.999921</td>\n",
       "    </tr>\n",
       "    <tr>\n",
       "      <th>1</th>\n",
       "      <td>MS-DAR-00089-000-00017_north</td>\n",
       "      <td>MS-DAR-00205-00002-000-00431_north_fft.mat</td>\n",
       "      <td>0.999893</td>\n",
       "    </tr>\n",
       "    <tr>\n",
       "      <th>2</th>\n",
       "      <td>MS-DAR-00087-000-00010_south</td>\n",
       "      <td>MS-DAR-00087-000-00008_north_fft.mat</td>\n",
       "      <td>0.999853</td>\n",
       "    </tr>\n",
       "    <tr>\n",
       "      <th>3</th>\n",
       "      <td>MS-DAR-00085-000-00150_south</td>\n",
       "      <td>MS-DAR-00084-00002-000-00307_north_fft.mat</td>\n",
       "      <td>0.999843</td>\n",
       "    </tr>\n",
       "    <tr>\n",
       "      <th>4</th>\n",
       "      <td>MS-DAR-00209-00009-000-00088_south</td>\n",
       "      <td>MS-DAR-00209-00009-000-00168_north_fft.mat</td>\n",
       "      <td>0.999837</td>\n",
       "    </tr>\n",
       "  </tbody>\n",
       "</table>\n",
       "</div>"
      ],
      "text/plain": [
       "                               image1  \\\n",
       "0        MS-DAR-00048-000-00189_south   \n",
       "1        MS-DAR-00089-000-00017_north   \n",
       "2        MS-DAR-00087-000-00010_south   \n",
       "3        MS-DAR-00085-000-00150_south   \n",
       "4  MS-DAR-00209-00009-000-00088_south   \n",
       "\n",
       "                                       image2  fft_score  \n",
       "0        MS-DAR-00048-000-00189_north_fft.mat   0.999921  \n",
       "1  MS-DAR-00205-00002-000-00431_north_fft.mat   0.999893  \n",
       "2        MS-DAR-00087-000-00008_north_fft.mat   0.999853  \n",
       "3  MS-DAR-00084-00002-000-00307_north_fft.mat   0.999843  \n",
       "4  MS-DAR-00209-00009-000-00168_north_fft.mat   0.999837  "
      ]
     },
     "execution_count": 4,
     "metadata": {},
     "output_type": "execute_result"
    }
   ],
   "source": [
    "top_matches = pd.read_csv(base_dir + 'top_items_sorted.txt', index_col=False, header=None, sep=' ');\n",
    "top_matches.columns = [\"image1\",\"image2\",\"fft_score\"]\n",
    "top_matches.head()"
   ]
  },
  {
   "cell_type": "code",
   "execution_count": 5,
   "metadata": {
    "collapsed": true,
    "deletable": true,
    "editable": true
   },
   "outputs": [],
   "source": [
    "def save_match(row_index):\n",
    "    with open(\"/data/amnh/darwin/confirmed_matches.csv\", \"a+\") as f:        \n",
    "        image1_basename = top_matches[\"image1\"][row_index]\n",
    "        image2_basename = top_matches[\"image2\"][row_index]\n",
    "        fft_score = top_matches[\"fft_score\"][row_index]\n",
    "        print(image1_basename, image2_basename, fft_score)\n",
    "        image1_filename = image1_basename[:-6] + '.jpg'\n",
    "        image2_filename = image2_basename[:-14] + '.jpg'\n",
    "        print(image1_filename)\n",
    "        print(image2_filename)\n",
    "        \n",
    "        if 'south' in image1_basename:\n",
    "            f.write(\"{},{},{}\\n\".format(image2_filename, image1_filename, fft_score))\n",
    "        else:\n",
    "            f.write(\"{},{},{}\\n\".format(image1_filename, image2_filename, fft_score))"
   ]
  },
  {
   "cell_type": "code",
   "execution_count": 6,
   "metadata": {
    "collapsed": false,
    "deletable": true,
    "editable": true
   },
   "outputs": [],
   "source": [
    "def check_match_curves(row_index):\n",
    "    image1_basename = top_matches[\"image1\"][row_index]\n",
    "    image2_basename = top_matches[\"image2\"][row_index]\n",
    "    fft_score = top_matches[\"fft_score\"][row_index]\n",
    "    fft1_filename = base_fft_dir + image1_basename + '_fft.mat'\n",
    "    fft2_filename = base_fft_dir + image2_basename\n",
    "    curve1_filename = base_csv_dir + image1_basename + '.csv'\n",
    "    curve2_filename = base_csv_dir + image2_basename[:-8] + '.csv'\n",
    "    if 'south' in image1_basename and 'south' in image2_basename:\n",
    "        print('CONFLICTING BORDERS!')\n",
    "        return\n",
    "    if 'north' in image1_basename and 'north' in image2_basename:\n",
    "        print('CONFLICTING BORDERS!')\n",
    "        return\n",
    "    fft1 = sio.loadmat(fft1_filename)['fft']\n",
    "    fft2 = sio.loadmat(fft2_filename)['fft']\n",
    "    curve1restored = np.real(ifft(fft1))\n",
    "    curve2restored = np.real(ifft(fft2))\n",
    "    curve1xy = pd.read_csv(curve1_filename)\n",
    "    curve2xy = pd.read_csv(curve2_filename)\n",
    "    curve1xyn = curve1xy - curve1xy.mean()\n",
    "    curve2xyn = curve2xy - curve2xy.mean()\n",
    "    curve1y = curve1xyn.ix[:,1] \n",
    "    curve2y = curve2xyn.ix[:,1]\n",
    "    commonsize = min(curve1y.size, curve2y.size)\n",
    "    curve1yt = curve1y[:commonsize]\n",
    "    curve2yt = curve2y[:commonsize]\n",
    "    rms = sqrt(mean_squared_error(curve1yt,curve2yt))\n",
    "    print(rms)\n",
    "    print(curve1_filename)\n",
    "    print(curve2_filename)\n",
    "    plt.figure()\n",
    "    plt.plot(curve1y)\n",
    "    plt.plot(curve2y)"
   ]
  },
  {
   "cell_type": "code",
   "execution_count": 7,
   "metadata": {
    "collapsed": true
   },
   "outputs": [],
   "source": [
    "def compute_match_curves(row_index):\n",
    "    image1_basename = top_matches[\"image1\"][row_index]\n",
    "    image2_basename = top_matches[\"image2\"][row_index]\n",
    "    fft_score = top_matches[\"fft_score\"][row_index]\n",
    "    image1_filename = image1_basename[:-6] + '.jpg'\n",
    "    image2_filename = image2_basename[:-14] + '.jpg'\n",
    "    fft1_filename = base_fft_dir + image1_basename + '_fft.mat'\n",
    "    fft2_filename = base_fft_dir + image2_basename\n",
    "    curve1_filename = base_csv_dir + image1_basename + '.csv'\n",
    "    curve2_filename = base_csv_dir + image2_basename[:-8] + '.csv'\n",
    "    curve1xy = pd.read_csv(curve1_filename)\n",
    "    curve2xy = pd.read_csv(curve2_filename)\n",
    "    curve1xyn = curve1xy - curve1xy.mean()\n",
    "    curve2xyn = curve2xy - curve2xy.mean()\n",
    "    curve1y = curve1xyn.ix[:,1] \n",
    "    curve2y = curve2xyn.ix[:,1]\n",
    "    commonsize = min(curve1y.size, curve2y.size)\n",
    "    curve1yt = curve1y[:commonsize]\n",
    "    curve2yt = curve2y[:commonsize]\n",
    "    pow1 = sqrt((curve1yt**2).sum())\n",
    "    pow2 = sqrt((curve2yt**2).sum())\n",
    "    conflict = False\n",
    "    verified = False\n",
    "    rms = sqrt(mean_squared_error(curve1yt,curve2yt))\n",
    "    if 'south' in image1_basename and 'south' in image2_basename:\n",
    "        conflict = True\n",
    "    if 'north' in image1_basename and 'north' in image2_basename:\n",
    "        conflict = True\n",
    "    return rms, fft_score, min(pow1, pow2), row_index, image1_filename, image2_filename, conflict, verified"
   ]
  },
  {
   "cell_type": "code",
   "execution_count": 8,
   "metadata": {
    "collapsed": false
   },
   "outputs": [],
   "source": [
    "rmss = [compute_match_curves(x) for x in range(0,2000)]"
   ]
  },
  {
   "cell_type": "code",
   "execution_count": 9,
   "metadata": {
    "collapsed": false
   },
   "outputs": [],
   "source": [
    "review = pd.DataFrame(sorted(rmss,key=operator.itemgetter(3),reverse=True),\n",
    "                     columns=[\"rms\", \"fft_score\", \"minpow1pow2\", \"row_index\", \"image1_filename\", \"image2_filename\", \"conflict\", \"verified\"])"
   ]
  },
  {
   "cell_type": "code",
   "execution_count": 10,
   "metadata": {
    "collapsed": false
   },
   "outputs": [],
   "source": [
    "review = review[~review['conflict']]"
   ]
  },
  {
   "cell_type": "code",
   "execution_count": 11,
   "metadata": {
    "collapsed": false
   },
   "outputs": [
    {
     "data": {
      "text/html": [
       "<div>\n",
       "<table border=\"1\" class=\"dataframe\">\n",
       "  <thead>\n",
       "    <tr style=\"text-align: right;\">\n",
       "      <th></th>\n",
       "      <th>rms</th>\n",
       "      <th>fft_score</th>\n",
       "      <th>minpow1pow2</th>\n",
       "      <th>row_index</th>\n",
       "      <th>image1_filename</th>\n",
       "      <th>image2_filename</th>\n",
       "      <th>conflict</th>\n",
       "      <th>verified</th>\n",
       "    </tr>\n",
       "  </thead>\n",
       "  <tbody>\n",
       "    <tr>\n",
       "      <th>4</th>\n",
       "      <td>0.087589</td>\n",
       "      <td>0.513633</td>\n",
       "      <td>0.563430</td>\n",
       "      <td>1995</td>\n",
       "      <td>MS-DAR-00056-000-00203.jpg</td>\n",
       "      <td>MS-DAR-00050-000-00054.jpg</td>\n",
       "      <td>False</td>\n",
       "      <td>False</td>\n",
       "    </tr>\n",
       "    <tr>\n",
       "      <th>5</th>\n",
       "      <td>0.005059</td>\n",
       "      <td>0.519002</td>\n",
       "      <td>0.118997</td>\n",
       "      <td>1994</td>\n",
       "      <td>MS-DAR-00185-000-00418.jpg</td>\n",
       "      <td>MS-DAR-00029-00001-000-00082.jpg</td>\n",
       "      <td>False</td>\n",
       "      <td>False</td>\n",
       "    </tr>\n",
       "    <tr>\n",
       "      <th>7</th>\n",
       "      <td>0.019293</td>\n",
       "      <td>0.526031</td>\n",
       "      <td>0.301725</td>\n",
       "      <td>1992</td>\n",
       "      <td>MS-DAR-00059-00002-000-00031.jpg</td>\n",
       "      <td>MS-DAR-00209-00015-000-00074.jpg</td>\n",
       "      <td>False</td>\n",
       "      <td>False</td>\n",
       "    </tr>\n",
       "    <tr>\n",
       "      <th>9</th>\n",
       "      <td>0.061248</td>\n",
       "      <td>0.537222</td>\n",
       "      <td>0.508968</td>\n",
       "      <td>1990</td>\n",
       "      <td>MS-DAR-00209-00005-000-00121.jpg</td>\n",
       "      <td>MS-DAR-00077-000-00254.jpg</td>\n",
       "      <td>False</td>\n",
       "      <td>False</td>\n",
       "    </tr>\n",
       "    <tr>\n",
       "      <th>11</th>\n",
       "      <td>0.016648</td>\n",
       "      <td>0.560654</td>\n",
       "      <td>0.272364</td>\n",
       "      <td>1988</td>\n",
       "      <td>MS-DAR-00059-00002-000-00163.jpg</td>\n",
       "      <td>MS-DAR-00053-00001-000-00156.jpg</td>\n",
       "      <td>False</td>\n",
       "      <td>False</td>\n",
       "    </tr>\n",
       "  </tbody>\n",
       "</table>\n",
       "</div>"
      ],
      "text/plain": [
       "         rms  fft_score  minpow1pow2  row_index  \\\n",
       "4   0.087589   0.513633     0.563430       1995   \n",
       "5   0.005059   0.519002     0.118997       1994   \n",
       "7   0.019293   0.526031     0.301725       1992   \n",
       "9   0.061248   0.537222     0.508968       1990   \n",
       "11  0.016648   0.560654     0.272364       1988   \n",
       "\n",
       "                     image1_filename                   image2_filename  \\\n",
       "4         MS-DAR-00056-000-00203.jpg        MS-DAR-00050-000-00054.jpg   \n",
       "5         MS-DAR-00185-000-00418.jpg  MS-DAR-00029-00001-000-00082.jpg   \n",
       "7   MS-DAR-00059-00002-000-00031.jpg  MS-DAR-00209-00015-000-00074.jpg   \n",
       "9   MS-DAR-00209-00005-000-00121.jpg        MS-DAR-00077-000-00254.jpg   \n",
       "11  MS-DAR-00059-00002-000-00163.jpg  MS-DAR-00053-00001-000-00156.jpg   \n",
       "\n",
       "   conflict verified  \n",
       "4     False    False  \n",
       "5     False    False  \n",
       "7     False    False  \n",
       "9     False    False  \n",
       "11    False    False  "
      ]
     },
     "execution_count": 11,
     "metadata": {},
     "output_type": "execute_result"
    }
   ],
   "source": [
    "review.head()"
   ]
  },
  {
   "cell_type": "code",
   "execution_count": 12,
   "metadata": {
    "collapsed": false
   },
   "outputs": [
    {
     "data": {
      "text/plain": [
       "<matplotlib.collections.PathCollection at 0x7fb35146ed68>"
      ]
     },
     "execution_count": 12,
     "metadata": {},
     "output_type": "execute_result"
    },
    {
     "data": {
      "image/png": "[encoded data removed]",
      "text/plain": [
       "<matplotlib.figure.Figure at 0x7fb3515bf780>"
      ]
     },
     "metadata": {},
     "output_type": "display_data"
    }
   ],
   "source": [
    "plt.scatter(review['rms'], review['fft_score'])"
   ]
  },
  {
   "cell_type": "code",
   "execution_count": 13,
   "metadata": {
    "collapsed": false
   },
   "outputs": [],
   "source": [
    "matches = pd.read_csv(base_dir + 'confirmed_matches.csv',\n",
    "                     names = ['image1_filename', 'image2_filename', 'fft_score'])"
   ]
  },
  {
   "cell_type": "code",
   "execution_count": 14,
   "metadata": {
    "collapsed": false
   },
   "outputs": [
    {
     "data": {
      "text/html": [
       "<div>\n",
       "<table border=\"1\" class=\"dataframe\">\n",
       "  <thead>\n",
       "    <tr style=\"text-align: right;\">\n",
       "      <th></th>\n",
       "      <th>image1_filename</th>\n",
       "      <th>image2_filename</th>\n",
       "      <th>fft_score</th>\n",
       "    </tr>\n",
       "  </thead>\n",
       "  <tbody>\n",
       "    <tr>\n",
       "      <th>0</th>\n",
       "      <td>MS-DAR-00084-00002-000-00307.jpg</td>\n",
       "      <td>MS-DAR-00085-000-00150.jpg</td>\n",
       "      <td>0.999843</td>\n",
       "    </tr>\n",
       "    <tr>\n",
       "      <th>1</th>\n",
       "      <td>MS-DAR-00209-00009-000-00168.jpg</td>\n",
       "      <td>MS-DAR-00209-00009-000-00088.jpg</td>\n",
       "      <td>0.999837</td>\n",
       "    </tr>\n",
       "    <tr>\n",
       "      <th>2</th>\n",
       "      <td>MS-DAR-00056-000-00103.jpg</td>\n",
       "      <td>MS-DAR-00055-000-00261.jpg</td>\n",
       "      <td>0.999767</td>\n",
       "    </tr>\n",
       "    <tr>\n",
       "      <th>3</th>\n",
       "      <td>MS-DAR-00084-00002-000-00308.jpg</td>\n",
       "      <td>MS-DAR-00085-000-00151.jpg</td>\n",
       "      <td>0.999689</td>\n",
       "    </tr>\n",
       "    <tr>\n",
       "      <th>4</th>\n",
       "      <td>MS-DAR-00209-00014-000-00016.jpg</td>\n",
       "      <td>MS-DAR-00209-00010-000-00084.jpg</td>\n",
       "      <td>0.999662</td>\n",
       "    </tr>\n",
       "  </tbody>\n",
       "</table>\n",
       "</div>"
      ],
      "text/plain": [
       "                    image1_filename                   image2_filename  \\\n",
       "0  MS-DAR-00084-00002-000-00307.jpg        MS-DAR-00085-000-00150.jpg   \n",
       "1  MS-DAR-00209-00009-000-00168.jpg  MS-DAR-00209-00009-000-00088.jpg   \n",
       "2        MS-DAR-00056-000-00103.jpg        MS-DAR-00055-000-00261.jpg   \n",
       "3  MS-DAR-00084-00002-000-00308.jpg        MS-DAR-00085-000-00151.jpg   \n",
       "4  MS-DAR-00209-00014-000-00016.jpg  MS-DAR-00209-00010-000-00084.jpg   \n",
       "\n",
       "   fft_score  \n",
       "0   0.999843  \n",
       "1   0.999837  \n",
       "2   0.999767  \n",
       "3   0.999689  \n",
       "4   0.999662  "
      ]
     },
     "execution_count": 14,
     "metadata": {},
     "output_type": "execute_result"
    }
   ],
   "source": [
    "matches.head()"
   ]
  },
  {
   "cell_type": "code",
   "execution_count": 15,
   "metadata": {
    "collapsed": false
   },
   "outputs": [],
   "source": [
    "image_matches_index = pd.DataFrame(matches['image1_filename']+':'+matches['image2_filename'], columns=['image_index'])"
   ]
  },
  {
   "cell_type": "code",
   "execution_count": 16,
   "metadata": {
    "collapsed": true
   },
   "outputs": [],
   "source": [
    "image_review_index = pd.DataFrame(review['image2_filename']+':'+review['image1_filename'], columns=['image_index'])"
   ]
  },
  {
   "cell_type": "code",
   "execution_count": 17,
   "metadata": {
    "collapsed": false
   },
   "outputs": [],
   "source": [
    "for index, row in review.iterrows():\n",
    "    verified = False\n",
    "    image_index = row['image1_filename'] + ':' + row['image2_filename']\n",
    "    if image_index in image_matches_index.image_index.values:\n",
    "        verified = True\n",
    "    image_index = row['image2_filename'] + ':' + row['image1_filename']\n",
    "    if image_index in image_matches_index.image_index.values:\n",
    "        verified = True\n",
    "    review.set_value(col='verified', index=index, value=verified)"
   ]
  },
  {
   "cell_type": "code",
   "execution_count": 18,
   "metadata": {
    "collapsed": false
   },
   "outputs": [],
   "source": [
    "review.to_csv(base_dir + 'parametric_matches.csv', header=True, index=False,\n",
    "              columns=[\"rms\", \"fft_score\", \"minpow1pow2\", \"row_index\", \"image1_filename\", \"image2_filename\", \"verified\"])"
   ]
  },
  {
   "cell_type": "code",
   "execution_count": 19,
   "metadata": {
    "collapsed": false
   },
   "outputs": [],
   "source": [
    "reviewverified = review[review['verified']]\n",
    "min_fft_score = min(reviewverified['fft_score'])\n",
    "max_rms = max(reviewverified['rms'])\n",
    "min_minpower = min(reviewverified['minpow1pow2'])"
   ]
  },
  {
   "cell_type": "code",
   "execution_count": 20,
   "metadata": {
    "collapsed": false
   },
   "outputs": [],
   "source": [
    "candidates = review[review['verified']==False]\n",
    "candidates = candidates[candidates['rms'] < max_rms]\n",
    "candidates = candidates[candidates['fft_score'] > min_fft_score]\n",
    "candidates = candidates[candidates['minpow1pow2'] > min_minpower]"
   ]
  },
  {
   "cell_type": "code",
   "execution_count": 21,
   "metadata": {
    "collapsed": false
   },
   "outputs": [
    {
     "data": {
      "text/html": [
       "<div>\n",
       "<table border=\"1\" class=\"dataframe\">\n",
       "  <thead>\n",
       "    <tr style=\"text-align: right;\">\n",
       "      <th></th>\n",
       "      <th>rms</th>\n",
       "      <th>fft_score</th>\n",
       "      <th>minpow1pow2</th>\n",
       "      <th>row_index</th>\n",
       "      <th>image1_filename</th>\n",
       "      <th>image2_filename</th>\n",
       "      <th>conflict</th>\n",
       "      <th>verified</th>\n",
       "    </tr>\n",
       "  </thead>\n",
       "  <tbody>\n",
       "    <tr>\n",
       "      <th>1646</th>\n",
       "      <td>0.068430</td>\n",
       "      <td>0.997431</td>\n",
       "      <td>4.847854</td>\n",
       "      <td>353</td>\n",
       "      <td>MS-DAR-00010-00002-000-00283.jpg</td>\n",
       "      <td>MS-DAR-00084-00002-000-00398.jpg</td>\n",
       "      <td>False</td>\n",
       "      <td>False</td>\n",
       "    </tr>\n",
       "    <tr>\n",
       "      <th>1673</th>\n",
       "      <td>0.056562</td>\n",
       "      <td>0.997627</td>\n",
       "      <td>2.662005</td>\n",
       "      <td>326</td>\n",
       "      <td>MS-DAR-00082-000-00314.jpg</td>\n",
       "      <td>MS-DAR-00088-000-00088.jpg</td>\n",
       "      <td>False</td>\n",
       "      <td>False</td>\n",
       "    </tr>\n",
       "    <tr>\n",
       "      <th>1706</th>\n",
       "      <td>0.043420</td>\n",
       "      <td>0.997828</td>\n",
       "      <td>2.675352</td>\n",
       "      <td>293</td>\n",
       "      <td>MS-DAR-00083-000-00025.jpg</td>\n",
       "      <td>MS-DAR-00018-00001-000-00077.jpg</td>\n",
       "      <td>False</td>\n",
       "      <td>False</td>\n",
       "    </tr>\n",
       "    <tr>\n",
       "      <th>1750</th>\n",
       "      <td>0.055262</td>\n",
       "      <td>0.998073</td>\n",
       "      <td>4.772641</td>\n",
       "      <td>249</td>\n",
       "      <td>MS-DAR-00209-00005-000-00116.jpg</td>\n",
       "      <td>MS-DAR-00208-000-00214.jpg</td>\n",
       "      <td>False</td>\n",
       "      <td>False</td>\n",
       "    </tr>\n",
       "    <tr>\n",
       "      <th>1868</th>\n",
       "      <td>0.025332</td>\n",
       "      <td>0.998839</td>\n",
       "      <td>3.547572</td>\n",
       "      <td>131</td>\n",
       "      <td>MS-DAR-00018-00001-000-00190.jpg</td>\n",
       "      <td>MS-DAR-00012-000-00165.jpg</td>\n",
       "      <td>False</td>\n",
       "      <td>False</td>\n",
       "    </tr>\n",
       "    <tr>\n",
       "      <th>1909</th>\n",
       "      <td>0.014621</td>\n",
       "      <td>0.999101</td>\n",
       "      <td>2.581176</td>\n",
       "      <td>90</td>\n",
       "      <td>MS-DAR-00081-000-00159.jpg</td>\n",
       "      <td>MS-DAR-00209-00009-000-00158.jpg</td>\n",
       "      <td>False</td>\n",
       "      <td>False</td>\n",
       "    </tr>\n",
       "    <tr>\n",
       "      <th>1940</th>\n",
       "      <td>0.016840</td>\n",
       "      <td>0.999316</td>\n",
       "      <td>2.807304</td>\n",
       "      <td>59</td>\n",
       "      <td>MS-DAR-00205-00007-000-00281.jpg</td>\n",
       "      <td>MS-DAR-00013-000-00030.jpg</td>\n",
       "      <td>False</td>\n",
       "      <td>False</td>\n",
       "    </tr>\n",
       "    <tr>\n",
       "      <th>1997</th>\n",
       "      <td>0.009677</td>\n",
       "      <td>0.999853</td>\n",
       "      <td>7.206468</td>\n",
       "      <td>2</td>\n",
       "      <td>MS-DAR-00087-000-00010.jpg</td>\n",
       "      <td>MS-DAR-00087-000-00008.jpg</td>\n",
       "      <td>False</td>\n",
       "      <td>False</td>\n",
       "    </tr>\n",
       "  </tbody>\n",
       "</table>\n",
       "</div>"
      ],
      "text/plain": [
       "           rms  fft_score  minpow1pow2  row_index  \\\n",
       "1646  0.068430   0.997431     4.847854        353   \n",
       "1673  0.056562   0.997627     2.662005        326   \n",
       "1706  0.043420   0.997828     2.675352        293   \n",
       "1750  0.055262   0.998073     4.772641        249   \n",
       "1868  0.025332   0.998839     3.547572        131   \n",
       "1909  0.014621   0.999101     2.581176         90   \n",
       "1940  0.016840   0.999316     2.807304         59   \n",
       "1997  0.009677   0.999853     7.206468          2   \n",
       "\n",
       "                       image1_filename                   image2_filename  \\\n",
       "1646  MS-DAR-00010-00002-000-00283.jpg  MS-DAR-00084-00002-000-00398.jpg   \n",
       "1673        MS-DAR-00082-000-00314.jpg        MS-DAR-00088-000-00088.jpg   \n",
       "1706        MS-DAR-00083-000-00025.jpg  MS-DAR-00018-00001-000-00077.jpg   \n",
       "1750  MS-DAR-00209-00005-000-00116.jpg        MS-DAR-00208-000-00214.jpg   \n",
       "1868  MS-DAR-00018-00001-000-00190.jpg        MS-DAR-00012-000-00165.jpg   \n",
       "1909        MS-DAR-00081-000-00159.jpg  MS-DAR-00209-00009-000-00158.jpg   \n",
       "1940  MS-DAR-00205-00007-000-00281.jpg        MS-DAR-00013-000-00030.jpg   \n",
       "1997        MS-DAR-00087-000-00010.jpg        MS-DAR-00087-000-00008.jpg   \n",
       "\n",
       "     conflict verified  \n",
       "1646    False    False  \n",
       "1673    False    False  \n",
       "1706    False    False  \n",
       "1750    False    False  \n",
       "1868    False    False  \n",
       "1909    False    False  \n",
       "1940    False    False  \n",
       "1997    False    False  "
      ]
     },
     "execution_count": 21,
     "metadata": {},
     "output_type": "execute_result"
    }
   ],
   "source": [
    "candidates.sort_values('row_index', ascending=False)"
   ]
  },
  {
   "cell_type": "code",
   "execution_count": 23,
   "metadata": {
    "collapsed": false
   },
   "outputs": [
    {
     "name": "stdout",
     "output_type": "stream",
     "text": [
      "0.01632206704005477\n",
      "/data/amnh/darwin/image_csvs/MS-DAR-00088-000-00340_north.csv\n",
      "/data/amnh/darwin/image_csvs/MS-DAR-00088-000-00342_south.csv\n"
     ]
    },
    {
     "data": {
      "image/png": "[encoded data removed]",
      "text/plain": [
       "<matplotlib.figure.Figure at 0x7fb3513ca160>"
      ]
     },
     "metadata": {},
     "output_type": "display_data"
    }
   ],
   "source": [
    "check_match_curves(368)"
   ]
  },
  {
   "cell_type": "code",
   "execution_count": 42,
   "metadata": {
    "collapsed": false
   },
   "outputs": [
    {
     "name": "stdout",
     "output_type": "stream",
     "text": [
      "MS-DAR-00088-000-00340_north MS-DAR-00088-000-00342_south_fft.mat 0.997299017696\n",
      "MS-DAR-00088-000-00340.jpg\n",
      "MS-DAR-00088-000-00342.jpg\n"
     ]
    }
   ],
   "source": [
    "save_match(368)"
   ]
  },
  {
   "cell_type": "code",
   "execution_count": null,
   "metadata": {
    "collapsed": true
   },
   "outputs": [],
   "source": []
  }
 ],
 "metadata": {
  "kernelspec": {
   "display_name": "Python 3",
   "language": "python",
   "name": "python3"
  },
  "language_info": {
   "codemirror_mode": {
    "name": "ipython",
    "version": 3
   },
   "file_extension": ".py",
   "mimetype": "text/x-python",
   "name": "python",
   "nbconvert_exporter": "python",
   "pygments_lexer": "ipython3",
   "version": "3.4.2"
  }
 },
 "nbformat": 4,
 "nbformat_minor": 2
}
