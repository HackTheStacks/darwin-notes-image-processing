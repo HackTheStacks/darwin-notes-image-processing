{
 "cells": [
  {
   "cell_type": "markdown",
   "metadata": {},
   "source": [
    "# Auto-Encoder for Darwin Images\n",
    "\n",
    "### This notebook contains code to:\n",
    "+ grab a folder of the darwin images\n",
    "+ load the center 200x200 pixels into memory\n",
    "+ train a convolutional autoencoder on the center pixels\n",
    "\n",
    "It's meant to compress the color info of the paper and writing implement into a vecotr that can later be clustered"
   ]
  },
  {
   "cell_type": "code",
   "execution_count": 191,
   "metadata": {
    "collapsed": false
   },
   "outputs": [],
   "source": [
    "from keras.layers import Input, Dense, Convolution2D, MaxPooling2D, UpSampling2D\n",
    "from keras.models import Model\n",
    "import numpy as np\n",
    "from PIL import Image\n",
    "import os, sys\n",
    "from keras.callbacks import TensorBoard"
   ]
  },
  {
   "cell_type": "code",
   "execution_count": 192,
   "metadata": {
    "collapsed": false
   },
   "outputs": [],
   "source": [
    "image_folder = \"/data/amnh/darwin/images_downsampled5x_7k\"\n",
    "all_img = os.listdir(image_folder)\n",
    "all_crop = []\n",
    "crop_size = 200"
   ]
  },
  {
   "cell_type": "code",
   "execution_count": 195,
   "metadata": {
    "collapsed": false
   },
   "outputs": [
    {
     "name": "stdout",
     "output_type": "stream",
     "text": [
      "failed on <keras.layers.convolutional.Convolution2D object at 0x7f01e8dddf98>\n"
     ]
    }
   ],
   "source": [
    "# import all images and pull a central crop normalized from 0-1\n",
    "for filename in all_img:\n",
    "    try: \n",
    "        im_path = os.path.join(image_folder,filename)\n",
    "        im = Image.open(im_path)\n",
    "        s = im.size\n",
    "        im_crop = im.crop((s[0]/2-crop_size/2,s[1]/2-crop_size/2,s[0]/2+crop_size/2,s[1]/2+crop_size/2))\n",
    "        all_crop.append(np.array(im_crop).astype('float32')/255)\n",
    "    except:\n",
    "        print(\"failed on {}\".format(filename))"
   ]
  },
  {
   "cell_type": "code",
   "execution_count": 196,
   "metadata": {
    "collapsed": false,
    "scrolled": true
   },
   "outputs": [
    {
     "name": "stdout",
     "output_type": "stream",
     "text": [
      "10653 images loaded\n"
     ]
    }
   ],
   "source": [
    "print(\"{} images loaded\".format(len(all_crop)))"
   ]
  },
  {
   "cell_type": "code",
   "execution_count": 197,
   "metadata": {
    "collapsed": true
   },
   "outputs": [],
   "source": [
    "input_img = Input(shape=(crop_size, crop_size, 3))"
   ]
  },
  {
   "cell_type": "code",
   "execution_count": 198,
   "metadata": {
    "collapsed": true
   },
   "outputs": [],
   "source": [
    "# we start with a 200x200x3 central crop of the input image\n",
    "x = Convolution2D(64, 3, 1, activation='relu', border_mode='same')(input_img)\n",
    "x = Convolution2D(64, 1, 3, activation='relu', border_mode='same')(x)\n",
    "x = MaxPooling2D((2, 2), border_mode='same')(x)\n",
    "x = Convolution2D(32, 3, 1, activation='relu', border_mode='same')(x)\n",
    "x = Convolution2D(32, 1, 3, activation='relu', border_mode='same')(x)\n",
    "x = MaxPooling2D((2, 2), border_mode='same')(x)\n",
    "x = Convolution2D(16, 3, 1, activation='relu', border_mode='same')(x)\n",
    "x = Convolution2D(16, 1, 3, activation='relu', border_mode='same')(x)\n",
    "x = MaxPooling2D((2, 2), border_mode='same')(x)\n",
    "x = Convolution2D(8, 3, 1, activation='relu', border_mode='same')(x)\n",
    "x = Convolution2D(8, 1, 3, activation='relu', border_mode='same')(x)\n",
    "\n",
    "# we are at 8X8X8 ([200x200]/2/2/2/3 and 8 filters)\n",
    "encoded = MaxPooling2D((5, 5), border_mode='same')(x)\n",
    "\n",
    "x = Convolution2D(8, 1, 3, activation='relu', border_mode='same')(encoded)\n",
    "x = Convolution2D(8, 3, 1, activation='relu', border_mode='same')(x)\n",
    "x = UpSampling2D((5, 5))(x)\n",
    "x = Convolution2D(16, 1, 3, activation='relu', border_mode='same')(x)\n",
    "x = Convolution2D(16, 3, 1, activation='relu', border_mode='same')(x)\n",
    "x = UpSampling2D((2, 2))(x)\n",
    "x = Convolution2D(32, 1, 3, activation='relu', border_mode='same')(x)\n",
    "x = Convolution2D(32, 3, 1, activation='relu', border_mode='same')(x)\n",
    "x = UpSampling2D((2, 2))(x)\n",
    "x = Convolution2D(64, 1, 3, activation='relu', border_mode='same')(x)\n",
    "x = Convolution2D(64, 3, 1, activation='relu', border_mode='same')(x)\n",
    "x = UpSampling2D((2, 2))(x)\n",
    "x = Convolution2D(3, 1, 3, activation='relu', border_mode='same')(x)\n",
    "\n",
    "decoded = Convolution2D(3, 3, 1, activation='relu', border_mode='same')(x)"
   ]
  },
  {
   "cell_type": "code",
   "execution_count": 199,
   "metadata": {
    "collapsed": false,
    "scrolled": false
   },
   "outputs": [
    {
     "name": "stdout",
     "output_type": "stream",
     "text": [
      "(None, 200, 200, 3)\n",
      "(None, 200, 200, 64)\n",
      "(None, 200, 200, 64)\n",
      "(None, 100, 100, 64)\n",
      "(None, 100, 100, 32)\n",
      "(None, 100, 100, 32)\n",
      "(None, 50, 50, 32)\n",
      "(None, 50, 50, 16)\n",
      "(None, 50, 50, 16)\n",
      "(None, 25, 25, 16)\n",
      "(None, 25, 25, 8)\n",
      "(None, 25, 25, 8)\n",
      "(None, 5, 5, 8)\n",
      "(None, 5, 5, 8)\n",
      "(None, 5, 5, 8)\n",
      "(None, 25, 25, 8)\n",
      "(None, 25, 25, 16)\n",
      "(None, 25, 25, 16)\n",
      "(None, 50, 50, 16)\n",
      "(None, 50, 50, 32)\n",
      "(None, 50, 50, 32)\n",
      "(None, 100, 100, 32)\n",
      "(None, 100, 100, 64)\n",
      "(None, 100, 100, 64)\n",
      "(None, 200, 200, 64)\n",
      "(None, 200, 200, 3)\n",
      "(None, 200, 200, 3)\n"
     ]
    }
   ],
   "source": [
    "autoencoder = Model(input_img, decoded)\n",
    "autoencoder.compile(optimizer='adam', loss='binary_crossentropy')\n",
    "# print layer shapes for debugging purposes\n",
    "for i in autoencoder.layers:\n",
    "    print(i.output_shape)"
   ]
  },
  {
   "cell_type": "code",
   "execution_count": null,
   "metadata": {
    "collapsed": false
   },
   "outputs": [],
   "source": [
    "np.random.shuffle(all_crop)\n",
    "training, test = np.array(all_crop[:int(.8*len(all_crop))]), np.array(all_crop[int(.8*len(all_crop)):])"
   ]
  },
  {
   "cell_type": "code",
   "execution_count": null,
   "metadata": {
    "collapsed": false
   },
   "outputs": [
    {
     "name": "stdout",
     "output_type": "stream",
     "text": [
      "Train on 8522 samples, validate on 2131 samples\n",
      "Epoch 1/10\n",
      "3200/8522 [==========>...................] - ETA: 3209s - loss: 13.0875\b\b\b\b\b\b\b\b\b\b\b\b\b\b\b\b\b\b\b\b\b\b\b\b\b\b\b\b\b\b\b\b\b\b\b\b\b\b\b\b\b\b\b\b\b\b\b\b\b\b\b\b\b\b\b\b\b\b\b\b\b\b\b\b\b\b\b\b\b\b\b\b\b\b\b\b\b\b\b\b\b\b\b\b\b\b\b\b\b\b\b\b\b\b\b\b\b\b\b\b\b\b\b\b\b\b\b\b\b\b\b\b\b\b\b\b\b\b\b\b\b\b\b\b\b\b\b\b\b\b\b\b\b\b\b\b\b\b\b\b\b\b\b\b\b\b\b\b\b\b\b\b\b\b\b\b\b\b\b\b\b\b\b\b\b\b\b\b\b\b\b\b\b\b\b\b\b\b\b\b\b\b\b\b\b\b\b\b\b\b\b\b\b\b\b\b\b\b\b\b\b\b\b\b\b\b\b\b\b\b\b\b\b\b\b\b\b\b\b\b\b\b\b\b\b\b\b\b\b\b\b\b\b\b\b\b\b\b\b\b\b\b\b\b\b\b\b\b\b\b\b\b\b\b\b\b\b\b\b\b\b\b\b\b\b\b\b\b\b\b\b\b\b\b\b\b\b\b\b\b\b\b\b\b\b\b\b\b\b\b\b\b\b\b\b\b\b\b\b\b\b\b\b\b\b\b\b\b\b\b\b\b\b\b\b\b\b\b\b\b\b\b\b\b\b\b\b\b\b\b\b\b\b\b\b\b\b\b\b\b\b\b\b\b\b\b\b\b\b\b\b\b\b\b\b\b\b\b\b\b\b\b\b\b\b\b\b\b\b\b\b\b\b\b\b\b\b\b\b\b\b\b\b\b\b\b\b\b\b\b\b\b\b\b\b\b\b\b\b\b\b\b\b\b\b\b\b\b\b\b\b\b\b\b\b\b\b\b\b\b\b\b\b\b\b\b\b\b\b\b\b\b\b\b\b\b\b\b\b\b\b\b\b\b\b\b\b\b\b\b\b\b\b\b\b\b\b\b\b\b\b\b\b\b\b\b\b\b\b\b\b\b\b\b\b\b\b\b\b\b\b\b\b\b\b\b\b\b\b\b\b\b\b\b\b\b\b\b\b\b\b\b\b\b\b\b\b\b\b\b\b\b\b\b\b\b\b\b\b\b\b\b\b\b\b\b\b\b\b\b\b\b\b\b\b\b\b\b\b\b\b\b\b\b\b\b\b\b\b\b\b\b\b\b\b\b\b\b\b\b\b\b\b\b\b\b\b\b\b\b\b\b\b\b\b\b\b\b\b\b\b\b\b\b\b\b\b\b\b\b\b\b\b\b\b\b\b\b\b\b\b\b\b\b\b\b\b\b\b\b\b\b\b\b\b\b\b\b\b\b\b\b\b\b\b\b\b\b\b\b\b\b\b\b\b\b\b\b\b\b\b\b\b\b\b\b\b\b\b\b\b\b\b\b\b\b\b\b\b\b\b\b\b\b\b\b\b\b\b\b\b\b\b\b\b\b\b\b\b\b\b\b\b\b\b\b\b\b\b\b\b\b\b\b\b\b\b\b\b\b\b\b\b\b\b\b\b\b\b\b\b\b\b\b\b\b\b\b\b\b\b\b\b\b\b\b\b\b\b\b\b\b\b\b\b\b\b\b\b\b\b\b\b\b\b\b\b\b\b\b\b\b\b\b\b\b\b\b\b\b\b\b\b\b\b\b\b\b\b\b\b\b\b\b\b\b\b\b\b\b\b\b\b\b\b\b\b\b\b\b\b\b\b\b\b\b\b\b\b\b\b\b\b\b\b\b\b\b\b\b\b\b\b\b\b\b\b\b\b\b\b\b\b\b\b\b\b\b\b\b\b\b\b\b\b\b\b\b\b\b\b\b\b\b\b\b\b\b\b\b\b\b\b\b\b\b\b\b\b\b\b\b\b\b\b\b\b\b\b\b\b\b\b\b\b\b\b\b\b\b\b\b\b\b\b\b\b\b\b\b\b\b\b\b\b\b\b\b\b\b\b\b\b\b\b\b\b\b\b\b\b\b\b\b\b\b\b\b\b\b\b\b\b\b\b\b\b\b\b\b\b\b\b\b\b\b\b\b\b\b\b\b\b\b\b\b\b\b\b\b\b\b\b\b\b\b\b\b\b\b\b\b\b\b\b\b\b\b\b\b\b\b\b\b\b\b\b\b\b\b\b\b\b\b\b\b\b\b\b\b\b\b\b\b\b\b\b\b\b\b\b\b\b\b\b\b\b\b\b\b\b\b\b\b\b\b\b\b\b\b\b\b\b\b\b\b\b\b\b\b\b\b\b\b\b\b\b\b\b\b\b\b\b\b\b\b\b\b\b\b\b\b\b\b\b\b\b\b\b\b\b\b\b\b\b\b\b\b\b\b\b\b\b\b\b\b\b\b\b\b\b\b\b\b\b\b\b\b\b\b\b\b\b\b\b\b\b\b\b\b\b\b\b\b\b\b\b\b\b\b\b\b\b\b\b\b\b\b\b\b\b\b\b\b\b\b\b\b\b\b\b\b\b\b\b\b\b\b\b\b\b\b\b\b\b\b\b\b\b\b\b\b\b\b\b\b\b\b\b\b\b\b\b\b\b\b\b\b\b\b\b\b\b\b\b\b\b\b\b\b\b\b\b\b\b\b\b\b\b\b\b\b\b\b\b\b\b\b\b\b\b\b\b\b\b\b\b\b\b\b\b\b\b\b\b\b\b\b\b\b\b\b\b\b\b\b\b\b\b\b\b\b\b\b\b\b\b\b\b\b\b\b\b\b\b\b\b\b\b\b\b\b\b\b\b\b\b\b\b\b\b\b\b\b\b\b\b\b\b\b\b\b\b\b\b\b\b\b\b\b\b\b\b\b\b\b\b\b\b\b\b\b\b\b\b\b\b\b\b\b\b\b\b\b\b\b\b\b\b\b\b\b\b\b\b\b\b\b\b\b\b\b\b\b\b\b\b\b\b\b\b\b\b\b\b\b\b\b\b\b\b\b\b\b\b\b\b\b\b\b\b\b\b\b\b\b\b\b\b\b\b\b\b\b\b\b\b\b\b\b\b\b\b\b\b\b\b\b\b\b\b\b\b\b\b\b\b\b\b\b\b\b\b\b\b\b\b\b\b\b\b\b\b\b\b\b\b\b\b\b\b\b\b\b\b\b\b\b\b\b\b\b\b\b\b\b\b\b\b\b\b\b\b\b\b\b\b\b\b\b\b\b\b\b\b\b\b\b\b\b\b\b\b\b\b\b\b\b\b\b\b\b\b\b\b\b\b\b\b\b\b\b\b\b\b\b\b\b\b\b\b\b\b\b\b\b\b\b\b\b\b\b\b\b\b\b\b\b\b\b\b\b\b\b\b\b\b\b\b\b\b\b\b\b\b\b\b\b\b\b\b\b\b\b\b\b\b\b\b\b\b\b\b\b\b\b\b\b\b\b\b\b\b\b\b\b\b\b\b\b\b\b\b\b\b\b\b\b\b\b\b\b\b\b\b\b\b\b\b\b\b\b\b\b\b\b\b\b\b\b\b\b\b\b\b\b\b\b\b\b\b\b\b\b\b\b\b\b\b\b\b\b\b\b\b\b\b\b\b\b\b\b\b\b\b\b\b\b\b\b\b\b\b\b\b\b\b\b\b\b\b\b\b\b\b\b\b\b\b\b\b\b\b\b\b\b\b\b\b\b\b\b\b\b\b\b\b\b\b\b\b\b\b\b\b\b\b\b\b\b\b\b\b\b\b\b\b\b\b\b\b\b\b\b\b\b\b\b\b\b\b\b\b\b\b\b\b\b\b\b\b\b\b\b"
     ]
    }
   ],
   "source": [
    "autoencoder.fit(training, training,\n",
    "                nb_epoch=10,\n",
    "                batch_size=128,\n",
    "                shuffle=True,\n",
    "                validation_data=(test, test),\n",
    "                callbacks=[TensorBoard(log_dir='/tmp/autoencoder')])"
   ]
  },
  {
   "cell_type": "code",
   "execution_count": null,
   "metadata": {
    "collapsed": true
   },
   "outputs": [],
   "source": [
    "''' #NOT DELETING THIS JUST IN CASE!!! - marko\n",
    "(i think can actually delete this) - marko\n",
    "\n",
    "# we start with a 200x200pixel central crop of the input image\n",
    "x = Convolution2D(3, 1, 64, activation='relu', border_mode='same')(input_img)\n",
    "x = Convolution2D(1, 3, 64, activation='relu', border_mode='same')(x)\n",
    "x = MaxPooling2D((2, 2), border_mode='same')(x)\n",
    "x = Convolution2D(3, 1, 32, activation='relu', border_mode='same')(x)\n",
    "x = Convolution2D(1, 3, 32, activation='relu', border_mode='same')(x)\n",
    "x = MaxPooling2D((2, 2), border_mode='same')(x)\n",
    "x = Convolution2D(3, 1, 16, activation='relu', border_mode='same')(x)\n",
    "x = Convolution2D(1, 3, 16, activation='relu', border_mode='same')(x)\n",
    "x = MaxPooling2D((2, 2), border_mode='same')(x)\n",
    "x = Convolution2D(3, 1, 8, activation='relu', border_mode='same')(x)\n",
    "x = Convolution2D(1, 3, 8, activation='relu', border_mode='same')(x)\n",
    "\n",
    "# we are at 8X8X8 ([200x200]/2/2/2/3 and 8 filters)\n",
    "encoded = MaxPooling2D((5, 5), border_mode='same')(x)\n",
    "\n",
    "x = Convolution2D(1, 3, 8, activation='relu', border_mode='same')(encoded)\n",
    "x = Convolution2D(3, 1, 8, activation='relu', border_mode='same')(x)\n",
    "x = UpSampling2D((5, 5))(x)\n",
    "x = Convolution2D(1, 3, 16, activation='relu', border_mode='same')(x)\n",
    "x = Convolution2D(3, 1, 16, activation='relu', border_mode='same')(x)\n",
    "x = UpSampling2D((2, 2))(x)\n",
    "x = Convolution2D(1, 3, 32, activation='relu', border_mode='same')(x)\n",
    "x = Convolution2D(3, 1, 32, activation='relu', border_mode='same')(x)\n",
    "x = UpSampling2D((2, 2))(x)\n",
    "x = Convolution2D(1, 3, 64, activation='relu', border_mode='same')(x)\n",
    "x = Convolution2D(3, 1, 64, activation='relu', border_mode='same')(x)\n",
    "decoded = UpSampling2D((2, 2))(x)\n",
    "#x = Convolution2D(3, 1, 1, activation='relu', border_mode='same')(x)\n",
    "#decoded = Convolution2D(1, 3, 1, activation='relu', border_mode='same')(x)\n",
    "'''"
   ]
  }
 ],
 "metadata": {
  "kernelspec": {
   "display_name": "Python 3",
   "language": "python",
   "name": "python3"
  },
  "language_info": {
   "codemirror_mode": {
    "name": "ipython",
    "version": 3
   },
   "file_extension": ".py",
   "mimetype": "text/x-python",
   "name": "python",
   "nbconvert_exporter": "python",
   "pygments_lexer": "ipython3",
   "version": "3.4.2"
  }
 },
 "nbformat": 4,
 "nbformat_minor": 2
}
