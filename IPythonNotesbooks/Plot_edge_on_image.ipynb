{
 "cells": [
  {
   "cell_type": "code",
   "execution_count": 19,
   "metadata": {
    "collapsed": true
   },
   "outputs": [],
   "source": [
    "import os\n",
    "import numpy as np\n",
    "import pandas as pd"
   ]
  },
  {
   "cell_type": "code",
   "execution_count": null,
   "metadata": {
    "collapsed": true
   },
   "outputs": [],
   "source": [
    "def plot_points_on_image(input_file_name, output_file_name, points_file_name):\n",
    "\n",
    "    ## plot point on image\n",
    "    for i in imagePointList:\n",
    "    \n",
    "        cv2.circle(OriImage, [x,y], 10, (255,255,255), -11)\n",
    "\n",
    "    print 'plot points completed'\n",
    "    outputfile = 'PlotPoint'+imageFile"
   ]
  },
  {
   "cell_type": "code",
   "execution_count": 22,
   "metadata": {
    "collapsed": false,
    "scrolled": true
   },
   "outputs": [
    {
     "name": "stdout",
     "output_type": "stream",
     "text": [
      "3545\n",
      "14180\n"
     ]
    }
   ],
   "source": [
    "PATH_SAMPLE_IMAGES = '/data/amnh/darwin/samples/images/'\n",
    "PATH_SAMPLE_CSVS = '/data/amnh/darwin/samples/image_csvs/'\n",
    "\n",
    "for image_file_name in os.listdir(PATH_SAMPLE_IMAGES):\n",
    "    \n",
    "    base_name = image_file_name.split('_')[0].strip('.jpg')\n",
    "    north_name = PATH_SAMPLE_CSVS + base_name + '_north.csv'\n",
    "    south_name = PATH_SAMPLE_CSVS + base_name + '_south.csv'\n",
    "    try:\n",
    "        points = \n",
    "        \n",
    "        points = np.concatenate((pd.read_csv(south_name).as_matrix(), pd.read_csv(north_name).as_matrix()), )\n",
    "        print(len(points))\n",
    "    \n",
    "    except FileNotFoundError as e:\n",
    "        print(e)\n",
    "    \n",
    "    break"
   ]
  },
  {
   "cell_type": "code",
   "execution_count": null,
   "metadata": {
    "collapsed": true
   },
   "outputs": [],
   "source": []
  }
 ],
 "metadata": {
  "kernelspec": {
   "display_name": "Python 3",
   "language": "python",
   "name": "python3"
  },
  "language_info": {
   "codemirror_mode": {
    "name": "ipython",
    "version": 3
   },
   "file_extension": ".py",
   "mimetype": "text/x-python",
   "name": "python",
   "nbconvert_exporter": "python",
   "pygments_lexer": "ipython3",
   "version": "3.4.2"
  }
 },
 "nbformat": 4,
 "nbformat_minor": 2
}
