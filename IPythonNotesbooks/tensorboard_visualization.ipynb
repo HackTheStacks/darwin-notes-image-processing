{
 "cells": [
  {
   "cell_type": "code",
   "execution_count": 93,
   "metadata": {
    "collapsed": true
   },
   "outputs": [],
   "source": [
    "import numpy as np\n",
    "import sys\n",
    "import scipy.io as sio\n",
    "import os\n",
    "import operator\n",
    "import tensorflow as tf\n",
    "import csv\n",
    "from tensorflow.contrib.tensorboard.plugins import projector"
   ]
  },
  {
   "cell_type": "code",
   "execution_count": 52,
   "metadata": {
    "collapsed": true
   },
   "outputs": [],
   "source": [
    "#base_dir = '/home/queenjin/sandbox/amnh/matchural/'\n",
    "base_dir = '/data/amnh/darwin/'\n",
    "curves_fft_dir = base_dir + 'image_csvs_fft_clean/'\n",
    "fft_tensor_dir = base_dir + 'fft_tensors/'"
   ]
  },
  {
   "cell_type": "code",
   "execution_count": 79,
   "metadata": {
    "collapsed": true
   },
   "outputs": [],
   "source": [
    "def load_mat(curve_filename):\n",
    "    curve_name = curves_fft_dir + curve_filename\n",
    "    fft = sio.loadmat(curve_name)['fft']\n",
    "    # zero out scaling and rotation components\n",
    "    fft[0][0] = 0\n",
    "    return fft"
   ]
  },
  {
   "cell_type": "code",
   "execution_count": 143,
   "metadata": {
    "collapsed": true
   },
   "outputs": [],
   "source": [
    "def complex_to_2d(complex):\n",
    "    # takes 1d complex vector and returns a real vector \n",
    "    # where it's a concatenated vector of real and imaginary parts\n",
    "    real = np.real(complex)\n",
    "    imag = np.imag(complex)\n",
    "    return np.stack((real,imag),0).reshape(1,real.shape[0]*2)"
   ]
  },
  {
   "cell_type": "code",
   "execution_count": 125,
   "metadata": {
    "collapsed": false
   },
   "outputs": [],
   "source": [
    "def list_to_tsv(filenames, fft_tensor_dir):\n",
    "    with open(os.path.join(fft_tensor_dir,'metadata.tsv'), 'w') as tsvfile:\n",
    "        writer = csv.writer(tsvfile, delimiter = \"\\t\")\n",
    "        for record in filenames:\n",
    "            writer.writerow([record])"
   ]
  },
  {
   "cell_type": "code",
   "execution_count": 152,
   "metadata": {
    "collapsed": true
   },
   "outputs": [],
   "source": [
    "def save_down_tensors(curves_fft_dir, d, LOG_DIR):\n",
    "    filenames = os.listdir(curves_fft_dir)\n",
    "    curves_raw = [complex_to_2d(load_mat(i)[0][0:d])[0] for i in filenames]\n",
    "    with tf.Session() as sess:\n",
    "        embeddings_tf = tf.Variable(np.array(curves_raw), name = \"embeddings\")\n",
    "        tf.global_variables_initializer().run()\n",
    "        # save the tensor down\n",
    "        saver = tf.train.Saver(tf.global_variables())\n",
    "        saver.save(sess, LOG_DIR, 0)\n",
    "        # associate metadata with the embedding\n",
    "        summary_writer = tf.summary.FileWriter(LOG_DIR)\n",
    "        config = projector.ProjectorConfig()\n",
    "        embedding = config.embeddings.add()\n",
    "        embedding.tensor_name = embeddings_tf.name\n",
    "        #save filenames to tsv\n",
    "        list_to_tsv(filenames, fft_tensor_dir)\n",
    "        embedding.metadata_path = os.path.join(LOG_DIR, \"metadata.tsv\")\n",
    "        # save a configuration file that TensorBoard will read during startup.\n",
    "        projector.visualize_embeddings(summary_writer, config)\n",
    "        print(\"\"\"you're good to go!\\nstart tensorboard with: \\n\\n$ tensorboard --logdir=\"{}\" \n",
    "              \\nand go to the 'embeddings tab' \"\"\".format(os.path.dirname(LOG_DIR)))"
   ]
  },
  {
   "cell_type": "code",
   "execution_count": 153,
   "metadata": {
    "collapsed": false
   },
   "outputs": [
    {
     "name": "stdout",
     "output_type": "stream",
     "text": [
      "\n",
      "you're good to go!\n",
      "start tensorboard with: \n",
      "\n",
      "$ tensorboard --logdir=\"/data/amnh/darwin/fft_tensors\" \n",
      "              \n",
      "and go to the 'embeddings tab' \n"
     ]
    }
   ],
   "source": [
    "# do the damn thang\n",
    "dimensionality = 20\n",
    "save_down_tensors(curves_fft_dir, dimensionality, fft_tensor_dir)"
   ]
  }
 ],
 "metadata": {
  "kernelspec": {
   "display_name": "Python 3",
   "language": "python",
   "name": "python3"
  },
  "language_info": {
   "codemirror_mode": {
    "name": "ipython",
    "version": 3
   },
   "file_extension": ".py",
   "mimetype": "text/x-python",
   "name": "python",
   "nbconvert_exporter": "python",
   "pygments_lexer": "ipython3",
   "version": "3.4.2"
  }
 },
 "nbformat": 4,
 "nbformat_minor": 2
}
